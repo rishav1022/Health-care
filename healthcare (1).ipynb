{
  "nbformat": 4,
  "nbformat_minor": 0,
  "metadata": {
    "colab": {
      "provenance": [],
      "collapsed_sections": []
    },
    "kernelspec": {
      "name": "python3",
      "display_name": "Python 3"
    },
    "language_info": {
      "name": "python"
    }
  },
  "cells": [
    {
      "cell_type": "code",
      "execution_count": null,
      "metadata": {
        "id": "yvYEggucw_fQ"
      },
      "outputs": [],
      "source": [
        "import numpy as np\n",
        "import pandas as pd\n",
        "from pandas import DataFrame,Series\n",
        "import matplotlib.pyplot as plt\n",
        "import seaborn as sns\n",
        "import scipy.stats as stats"
      ]
    },
    {
      "cell_type": "markdown",
      "source": [
        "Congratulations – you have been hired as Chief Data Scientist of MedCamp – a not for profit organization dedicated in making health conditions for working professionals better. MedCamp was started because the founders saw their family suffer due to bad work life balance and neglected health.\n",
        "\n",
        "MedCamp organizes health camps in several cities with low work life balance. They reach out to working people and ask them to register for these health camps. For those who attend, MedCamp provides them facility to undergo health checks or increase awareness by visiting various stalls (depending on the format of camp). \n",
        "\n",
        "MedCamp has conducted 65 such events over a period of 4 years and they see a high drop off between “Registration” and Number of people taking tests at the Camps. In last 4 years, they have stored data of ~110,000 registrations they have done.\n",
        "\n",
        "One of the huge costs in arranging these camps is the amount of inventory you need to carry. If you carry more than required inventory, you incur unnecessarily high costs. On the other hand, if you carry less than required inventory for conducting these medical checks, people end up having bad experience.\n",
        "\n",
        " \n",
        "\n",
        "The Process:\n",
        "MedCamp employees / volunteers reach out to people and drive registrations.\n",
        "During the camp, People who “ShowUp” either undergo the medical tests or visit stalls depending on the format of health camp.\n",
        " \n",
        "\n",
        "Other things to note:\n",
        "Since this is a completely voluntary activity for the working professionals, MedCamp usually has little profile information about these people.\n",
        "For a few camps, there was hardware failure, so some information about date and time of registration is lost.\n",
        "MedCamp runs 3 formats of these camps. The first and second format provides people with an instantaneous health score. The third format provides information about several health issues through various awareness stalls.\n",
        "Favorable outcome:\n",
        "For the first 2 formats, a favourable outcome is defined as getting a health_score, while in the third format it is defined as visiting at least a stall.\n",
        "You need to predict the chances (probability) of having a favourable outcome.\n",
        " \n",
        "\n",
        "Data Description\n",
        "Train.zip contains the following 6 csvs alongside the data dictionary that contains definitions for each variable\n",
        "\n",
        "Health_Camp_Detail.csv – File containing Health_Camp_Id, Camp_Start_Date, Camp_End_Date and Category details of each camp.\n",
        "\n",
        "Train.csv – File containing registration details for all the test camps. This includes Patient_ID, Health_Camp_ID, Registration_Date and a few anonymized variables as on registration date.\n",
        "\n",
        "Patient_Profile.csv – This file contains Patient profile details like Patient_ID, Online_Follower, Social media details, Income, Education, Age, First_Interaction_Date, City_Type and Employer_Category\n",
        "\n",
        "First_Health_Camp_Attended.csv – This file contains details about people who attended health camp of first format. This includes Donation (amount) & Health_Score of the person.\n",
        "\n",
        "Second_Health_Camp_Attended.csv - This file contains details about people who attended health camp of second format. This includes Health_Score of the person.\n",
        "\n",
        "Third_Health_Camp_Attended.csv - This file contains details about people who attended health camp of third format. This includes Number_of_stall_visited & Last_Stall_Visited_Number."
      ],
      "metadata": {
        "id": "ERyVy2UQxJZI"
      }
    },
    {
      "cell_type": "code",
      "source": [
        "train=pd.read_csv('/content/drive/MyDrive/Train.csv')\n",
        "pp=pd.read_csv('/content/drive/MyDrive/Patient_Profile.csv')\n",
        "hcdetail=pd.read_csv('/content/drive/MyDrive/Health_Camp_Detail.csv')\n",
        "fhc=pd.read_csv('/content/drive/MyDrive/First_Health_Camp_Attended.csv')\n",
        "shc=pd.read_csv('/content/drive/MyDrive/Second_Health_Camp_Attended.csv')\n",
        "thc=pd.read_csv('/content/drive/MyDrive/Third_Health_Camp_Attended.csv')\n",
        "test=pd.read_csv('/content/drive/MyDrive/test_l0Auv8Q.csv')"
      ],
      "metadata": {
        "id": "C5KyL4Y3yU8t"
      },
      "execution_count": null,
      "outputs": []
    },
    {
      "cell_type": "code",
      "source": [
        "train.head()"
      ],
      "metadata": {
        "colab": {
          "base_uri": "https://localhost:8080/",
          "height": 206
        },
        "id": "_MCrsRyeyU_H",
        "outputId": "e58429d0-e2a4-426c-fd21-f95b4a1cbf37"
      },
      "execution_count": null,
      "outputs": [
        {
          "output_type": "execute_result",
          "data": {
            "text/plain": [
              "   Patient_ID  Health_Camp_ID Registration_Date  Var1  Var2  Var3  Var4  Var5\n",
              "0      489652            6578         10-Sep-05     4     0     0     0     2\n",
              "1      507246            6578         18-Aug-05    45     5     0     0     7\n",
              "2      523729            6534         29-Apr-06     0     0     0     0     0\n",
              "3      524931            6535         07-Feb-04     0     0     0     0     0\n",
              "4      521364            6529         28-Feb-06    15     1     0     0     7"
            ],
            "text/html": [
              "\n",
              "  <div id=\"df-5a18ed34-55b0-41b8-bbec-90f993dd4c31\">\n",
              "    <div class=\"colab-df-container\">\n",
              "      <div>\n",
              "<style scoped>\n",
              "    .dataframe tbody tr th:only-of-type {\n",
              "        vertical-align: middle;\n",
              "    }\n",
              "\n",
              "    .dataframe tbody tr th {\n",
              "        vertical-align: top;\n",
              "    }\n",
              "\n",
              "    .dataframe thead th {\n",
              "        text-align: right;\n",
              "    }\n",
              "</style>\n",
              "<table border=\"1\" class=\"dataframe\">\n",
              "  <thead>\n",
              "    <tr style=\"text-align: right;\">\n",
              "      <th></th>\n",
              "      <th>Patient_ID</th>\n",
              "      <th>Health_Camp_ID</th>\n",
              "      <th>Registration_Date</th>\n",
              "      <th>Var1</th>\n",
              "      <th>Var2</th>\n",
              "      <th>Var3</th>\n",
              "      <th>Var4</th>\n",
              "      <th>Var5</th>\n",
              "    </tr>\n",
              "  </thead>\n",
              "  <tbody>\n",
              "    <tr>\n",
              "      <th>0</th>\n",
              "      <td>489652</td>\n",
              "      <td>6578</td>\n",
              "      <td>10-Sep-05</td>\n",
              "      <td>4</td>\n",
              "      <td>0</td>\n",
              "      <td>0</td>\n",
              "      <td>0</td>\n",
              "      <td>2</td>\n",
              "    </tr>\n",
              "    <tr>\n",
              "      <th>1</th>\n",
              "      <td>507246</td>\n",
              "      <td>6578</td>\n",
              "      <td>18-Aug-05</td>\n",
              "      <td>45</td>\n",
              "      <td>5</td>\n",
              "      <td>0</td>\n",
              "      <td>0</td>\n",
              "      <td>7</td>\n",
              "    </tr>\n",
              "    <tr>\n",
              "      <th>2</th>\n",
              "      <td>523729</td>\n",
              "      <td>6534</td>\n",
              "      <td>29-Apr-06</td>\n",
              "      <td>0</td>\n",
              "      <td>0</td>\n",
              "      <td>0</td>\n",
              "      <td>0</td>\n",
              "      <td>0</td>\n",
              "    </tr>\n",
              "    <tr>\n",
              "      <th>3</th>\n",
              "      <td>524931</td>\n",
              "      <td>6535</td>\n",
              "      <td>07-Feb-04</td>\n",
              "      <td>0</td>\n",
              "      <td>0</td>\n",
              "      <td>0</td>\n",
              "      <td>0</td>\n",
              "      <td>0</td>\n",
              "    </tr>\n",
              "    <tr>\n",
              "      <th>4</th>\n",
              "      <td>521364</td>\n",
              "      <td>6529</td>\n",
              "      <td>28-Feb-06</td>\n",
              "      <td>15</td>\n",
              "      <td>1</td>\n",
              "      <td>0</td>\n",
              "      <td>0</td>\n",
              "      <td>7</td>\n",
              "    </tr>\n",
              "  </tbody>\n",
              "</table>\n",
              "</div>\n",
              "      <button class=\"colab-df-convert\" onclick=\"convertToInteractive('df-5a18ed34-55b0-41b8-bbec-90f993dd4c31')\"\n",
              "              title=\"Convert this dataframe to an interactive table.\"\n",
              "              style=\"display:none;\">\n",
              "        \n",
              "  <svg xmlns=\"http://www.w3.org/2000/svg\" height=\"24px\"viewBox=\"0 0 24 24\"\n",
              "       width=\"24px\">\n",
              "    <path d=\"M0 0h24v24H0V0z\" fill=\"none\"/>\n",
              "    <path d=\"M18.56 5.44l.94 2.06.94-2.06 2.06-.94-2.06-.94-.94-2.06-.94 2.06-2.06.94zm-11 1L8.5 8.5l.94-2.06 2.06-.94-2.06-.94L8.5 2.5l-.94 2.06-2.06.94zm10 10l.94 2.06.94-2.06 2.06-.94-2.06-.94-.94-2.06-.94 2.06-2.06.94z\"/><path d=\"M17.41 7.96l-1.37-1.37c-.4-.4-.92-.59-1.43-.59-.52 0-1.04.2-1.43.59L10.3 9.45l-7.72 7.72c-.78.78-.78 2.05 0 2.83L4 21.41c.39.39.9.59 1.41.59.51 0 1.02-.2 1.41-.59l7.78-7.78 2.81-2.81c.8-.78.8-2.07 0-2.86zM5.41 20L4 18.59l7.72-7.72 1.47 1.35L5.41 20z\"/>\n",
              "  </svg>\n",
              "      </button>\n",
              "      \n",
              "  <style>\n",
              "    .colab-df-container {\n",
              "      display:flex;\n",
              "      flex-wrap:wrap;\n",
              "      gap: 12px;\n",
              "    }\n",
              "\n",
              "    .colab-df-convert {\n",
              "      background-color: #E8F0FE;\n",
              "      border: none;\n",
              "      border-radius: 50%;\n",
              "      cursor: pointer;\n",
              "      display: none;\n",
              "      fill: #1967D2;\n",
              "      height: 32px;\n",
              "      padding: 0 0 0 0;\n",
              "      width: 32px;\n",
              "    }\n",
              "\n",
              "    .colab-df-convert:hover {\n",
              "      background-color: #E2EBFA;\n",
              "      box-shadow: 0px 1px 2px rgba(60, 64, 67, 0.3), 0px 1px 3px 1px rgba(60, 64, 67, 0.15);\n",
              "      fill: #174EA6;\n",
              "    }\n",
              "\n",
              "    [theme=dark] .colab-df-convert {\n",
              "      background-color: #3B4455;\n",
              "      fill: #D2E3FC;\n",
              "    }\n",
              "\n",
              "    [theme=dark] .colab-df-convert:hover {\n",
              "      background-color: #434B5C;\n",
              "      box-shadow: 0px 1px 3px 1px rgba(0, 0, 0, 0.15);\n",
              "      filter: drop-shadow(0px 1px 2px rgba(0, 0, 0, 0.3));\n",
              "      fill: #FFFFFF;\n",
              "    }\n",
              "  </style>\n",
              "\n",
              "      <script>\n",
              "        const buttonEl =\n",
              "          document.querySelector('#df-5a18ed34-55b0-41b8-bbec-90f993dd4c31 button.colab-df-convert');\n",
              "        buttonEl.style.display =\n",
              "          google.colab.kernel.accessAllowed ? 'block' : 'none';\n",
              "\n",
              "        async function convertToInteractive(key) {\n",
              "          const element = document.querySelector('#df-5a18ed34-55b0-41b8-bbec-90f993dd4c31');\n",
              "          const dataTable =\n",
              "            await google.colab.kernel.invokeFunction('convertToInteractive',\n",
              "                                                     [key], {});\n",
              "          if (!dataTable) return;\n",
              "\n",
              "          const docLinkHtml = 'Like what you see? Visit the ' +\n",
              "            '<a target=\"_blank\" href=https://colab.research.google.com/notebooks/data_table.ipynb>data table notebook</a>'\n",
              "            + ' to learn more about interactive tables.';\n",
              "          element.innerHTML = '';\n",
              "          dataTable['output_type'] = 'display_data';\n",
              "          await google.colab.output.renderOutput(dataTable, element);\n",
              "          const docLink = document.createElement('div');\n",
              "          docLink.innerHTML = docLinkHtml;\n",
              "          element.appendChild(docLink);\n",
              "        }\n",
              "      </script>\n",
              "    </div>\n",
              "  </div>\n",
              "  "
            ]
          },
          "metadata": {},
          "execution_count": 170
        }
      ]
    },
    {
      "cell_type": "code",
      "source": [
        "pp.columns"
      ],
      "metadata": {
        "colab": {
          "base_uri": "https://localhost:8080/"
        },
        "id": "qHxswSnyyVBe",
        "outputId": "63cf6003-7e57-45ce-9b35-183656f32b6f"
      },
      "execution_count": null,
      "outputs": [
        {
          "output_type": "execute_result",
          "data": {
            "text/plain": [
              "Index(['Patient_ID', 'Online_Follower', 'LinkedIn_Shared', 'Twitter_Shared',\n",
              "       'Facebook_Shared', 'Income', 'Education_Score', 'Age',\n",
              "       'First_Interaction', 'City_Type', 'Employer_Category'],\n",
              "      dtype='object')"
            ]
          },
          "metadata": {},
          "execution_count": 171
        }
      ]
    },
    {
      "cell_type": "code",
      "source": [
        "hcdetail.columns"
      ],
      "metadata": {
        "colab": {
          "base_uri": "https://localhost:8080/"
        },
        "id": "QFsp-UUhyVD6",
        "outputId": "b0990ae6-566d-4a09-b3fb-5a9bc570e397"
      },
      "execution_count": null,
      "outputs": [
        {
          "output_type": "execute_result",
          "data": {
            "text/plain": [
              "Index(['Health_Camp_ID', 'Camp_Start_Date', 'Camp_End_Date', 'Category1',\n",
              "       'Category2', 'Category3'],\n",
              "      dtype='object')"
            ]
          },
          "metadata": {},
          "execution_count": 172
        }
      ]
    },
    {
      "cell_type": "code",
      "source": [
        "combined=pd.concat([train,test],ignore_index=True)"
      ],
      "metadata": {
        "id": "3nKETdREyVGE"
      },
      "execution_count": null,
      "outputs": []
    },
    {
      "cell_type": "code",
      "source": [
        "# Link all the additional Data Info available in different dfs...\n",
        "combined = pd.merge(combined, pp, on = [\"Patient_ID\"], how = \"left\")\n",
        "\n",
        "# First Health Camp\n",
        "combined = pd.merge(combined, fhc, on = [\"Patient_ID\",\"Health_Camp_ID\"], \n",
        "                    how = \"left\")\n",
        "\n",
        "# Second Health Camp\n",
        "combined = pd.merge(combined, shc, \n",
        "                    on = [\"Patient_ID\",\"Health_Camp_ID\"], how = \"left\")\n",
        "\n",
        "# Second Health Camp\n",
        "combined = pd.merge(combined, thc, \n",
        "                    on = [\"Patient_ID\",\"Health_Camp_ID\"], how = \"left\")\n",
        "\n",
        "combined = pd.merge(combined, hcdetail, on = [\"Health_Camp_ID\"], how = \"left\")\n",
        "\n"
      ],
      "metadata": {
        "id": "CZUQ2JGt5CQs"
      },
      "execution_count": null,
      "outputs": []
    },
    {
      "cell_type": "code",
      "source": [
        "combined.shape"
      ],
      "metadata": {
        "colab": {
          "base_uri": "https://localhost:8080/"
        },
        "id": "ixT8O_bO5CS7",
        "outputId": "91cca7f8-c355-4f6d-caf7-7e6d8430caf3"
      },
      "execution_count": null,
      "outputs": [
        {
          "output_type": "execute_result",
          "data": {
            "text/plain": [
              "(110527, 29)"
            ]
          },
          "metadata": {},
          "execution_count": 175
        }
      ]
    },
    {
      "cell_type": "code",
      "source": [
        "pd.options.display.max_columns=None"
      ],
      "metadata": {
        "id": "oe4I4VCx5CVH"
      },
      "execution_count": null,
      "outputs": []
    },
    {
      "cell_type": "code",
      "source": [
        "combined.head()"
      ],
      "metadata": {
        "colab": {
          "base_uri": "https://localhost:8080/",
          "height": 288
        },
        "id": "DK2OoXWy5CXl",
        "outputId": "1ba194df-3215-4666-b2d4-b9b793dcf3ec"
      },
      "execution_count": null,
      "outputs": [
        {
          "output_type": "execute_result",
          "data": {
            "text/plain": [
              "   Patient_ID  Health_Camp_ID Registration_Date  Var1  Var2  Var3  Var4  Var5  \\\n",
              "0      489652            6578         10-Sep-05     4     0     0     0     2   \n",
              "1      507246            6578         18-Aug-05    45     5     0     0     7   \n",
              "2      523729            6534         29-Apr-06     0     0     0     0     0   \n",
              "3      524931            6535         07-Feb-04     0     0     0     0     0   \n",
              "4      521364            6529         28-Feb-06    15     1     0     0     7   \n",
              "\n",
              "   Online_Follower  LinkedIn_Shared  Twitter_Shared  Facebook_Shared Income  \\\n",
              "0                0                0               0                0   None   \n",
              "1                0                0               0                0      1   \n",
              "2                0                0               0                0   None   \n",
              "3                0                0               0                0   None   \n",
              "4                0                0               0                1      1   \n",
              "\n",
              "  Education_Score   Age First_Interaction City_Type Employer_Category  \\\n",
              "0            None  None         06-Dec-04       NaN               NaN   \n",
              "1              75    40         08-Sep-04         C            Others   \n",
              "2            None  None         22-Jun-04       NaN               NaN   \n",
              "3            None  None         07-Feb-04         I               NaN   \n",
              "4              70    40         04-Jul-03         I        Technology   \n",
              "\n",
              "   Donation  Health_Score  Unnamed: 4  Health Score  Number_of_stall_visited  \\\n",
              "0       NaN           NaN         NaN           NaN                      2.0   \n",
              "1       NaN           NaN         NaN           NaN                      NaN   \n",
              "2       NaN           NaN         NaN      0.402054                      NaN   \n",
              "3       NaN           NaN         NaN           NaN                      NaN   \n",
              "4       NaN           NaN         NaN      0.845597                      NaN   \n",
              "\n",
              "   Last_Stall_Visited_Number Camp_Start_Date Camp_End_Date Category1  \\\n",
              "0                        1.0       16-Aug-05     14-Oct-05     Third   \n",
              "1                        NaN       16-Aug-05     14-Oct-05     Third   \n",
              "2                        NaN       17-Oct-05     07-Nov-07    Second   \n",
              "3                        NaN       01-Feb-04     18-Feb-04     First   \n",
              "4                        NaN       30-Mar-06     03-Apr-06    Second   \n",
              "\n",
              "  Category2  Category3  \n",
              "0         G          2  \n",
              "1         G          2  \n",
              "2         A          2  \n",
              "3         E          2  \n",
              "4         A          2  "
            ],
            "text/html": [
              "\n",
              "  <div id=\"df-f56fd73d-ac51-4eb2-9028-9c38a733c154\">\n",
              "    <div class=\"colab-df-container\">\n",
              "      <div>\n",
              "<style scoped>\n",
              "    .dataframe tbody tr th:only-of-type {\n",
              "        vertical-align: middle;\n",
              "    }\n",
              "\n",
              "    .dataframe tbody tr th {\n",
              "        vertical-align: top;\n",
              "    }\n",
              "\n",
              "    .dataframe thead th {\n",
              "        text-align: right;\n",
              "    }\n",
              "</style>\n",
              "<table border=\"1\" class=\"dataframe\">\n",
              "  <thead>\n",
              "    <tr style=\"text-align: right;\">\n",
              "      <th></th>\n",
              "      <th>Patient_ID</th>\n",
              "      <th>Health_Camp_ID</th>\n",
              "      <th>Registration_Date</th>\n",
              "      <th>Var1</th>\n",
              "      <th>Var2</th>\n",
              "      <th>Var3</th>\n",
              "      <th>Var4</th>\n",
              "      <th>Var5</th>\n",
              "      <th>Online_Follower</th>\n",
              "      <th>LinkedIn_Shared</th>\n",
              "      <th>Twitter_Shared</th>\n",
              "      <th>Facebook_Shared</th>\n",
              "      <th>Income</th>\n",
              "      <th>Education_Score</th>\n",
              "      <th>Age</th>\n",
              "      <th>First_Interaction</th>\n",
              "      <th>City_Type</th>\n",
              "      <th>Employer_Category</th>\n",
              "      <th>Donation</th>\n",
              "      <th>Health_Score</th>\n",
              "      <th>Unnamed: 4</th>\n",
              "      <th>Health Score</th>\n",
              "      <th>Number_of_stall_visited</th>\n",
              "      <th>Last_Stall_Visited_Number</th>\n",
              "      <th>Camp_Start_Date</th>\n",
              "      <th>Camp_End_Date</th>\n",
              "      <th>Category1</th>\n",
              "      <th>Category2</th>\n",
              "      <th>Category3</th>\n",
              "    </tr>\n",
              "  </thead>\n",
              "  <tbody>\n",
              "    <tr>\n",
              "      <th>0</th>\n",
              "      <td>489652</td>\n",
              "      <td>6578</td>\n",
              "      <td>10-Sep-05</td>\n",
              "      <td>4</td>\n",
              "      <td>0</td>\n",
              "      <td>0</td>\n",
              "      <td>0</td>\n",
              "      <td>2</td>\n",
              "      <td>0</td>\n",
              "      <td>0</td>\n",
              "      <td>0</td>\n",
              "      <td>0</td>\n",
              "      <td>None</td>\n",
              "      <td>None</td>\n",
              "      <td>None</td>\n",
              "      <td>06-Dec-04</td>\n",
              "      <td>NaN</td>\n",
              "      <td>NaN</td>\n",
              "      <td>NaN</td>\n",
              "      <td>NaN</td>\n",
              "      <td>NaN</td>\n",
              "      <td>NaN</td>\n",
              "      <td>2.0</td>\n",
              "      <td>1.0</td>\n",
              "      <td>16-Aug-05</td>\n",
              "      <td>14-Oct-05</td>\n",
              "      <td>Third</td>\n",
              "      <td>G</td>\n",
              "      <td>2</td>\n",
              "    </tr>\n",
              "    <tr>\n",
              "      <th>1</th>\n",
              "      <td>507246</td>\n",
              "      <td>6578</td>\n",
              "      <td>18-Aug-05</td>\n",
              "      <td>45</td>\n",
              "      <td>5</td>\n",
              "      <td>0</td>\n",
              "      <td>0</td>\n",
              "      <td>7</td>\n",
              "      <td>0</td>\n",
              "      <td>0</td>\n",
              "      <td>0</td>\n",
              "      <td>0</td>\n",
              "      <td>1</td>\n",
              "      <td>75</td>\n",
              "      <td>40</td>\n",
              "      <td>08-Sep-04</td>\n",
              "      <td>C</td>\n",
              "      <td>Others</td>\n",
              "      <td>NaN</td>\n",
              "      <td>NaN</td>\n",
              "      <td>NaN</td>\n",
              "      <td>NaN</td>\n",
              "      <td>NaN</td>\n",
              "      <td>NaN</td>\n",
              "      <td>16-Aug-05</td>\n",
              "      <td>14-Oct-05</td>\n",
              "      <td>Third</td>\n",
              "      <td>G</td>\n",
              "      <td>2</td>\n",
              "    </tr>\n",
              "    <tr>\n",
              "      <th>2</th>\n",
              "      <td>523729</td>\n",
              "      <td>6534</td>\n",
              "      <td>29-Apr-06</td>\n",
              "      <td>0</td>\n",
              "      <td>0</td>\n",
              "      <td>0</td>\n",
              "      <td>0</td>\n",
              "      <td>0</td>\n",
              "      <td>0</td>\n",
              "      <td>0</td>\n",
              "      <td>0</td>\n",
              "      <td>0</td>\n",
              "      <td>None</td>\n",
              "      <td>None</td>\n",
              "      <td>None</td>\n",
              "      <td>22-Jun-04</td>\n",
              "      <td>NaN</td>\n",
              "      <td>NaN</td>\n",
              "      <td>NaN</td>\n",
              "      <td>NaN</td>\n",
              "      <td>NaN</td>\n",
              "      <td>0.402054</td>\n",
              "      <td>NaN</td>\n",
              "      <td>NaN</td>\n",
              "      <td>17-Oct-05</td>\n",
              "      <td>07-Nov-07</td>\n",
              "      <td>Second</td>\n",
              "      <td>A</td>\n",
              "      <td>2</td>\n",
              "    </tr>\n",
              "    <tr>\n",
              "      <th>3</th>\n",
              "      <td>524931</td>\n",
              "      <td>6535</td>\n",
              "      <td>07-Feb-04</td>\n",
              "      <td>0</td>\n",
              "      <td>0</td>\n",
              "      <td>0</td>\n",
              "      <td>0</td>\n",
              "      <td>0</td>\n",
              "      <td>0</td>\n",
              "      <td>0</td>\n",
              "      <td>0</td>\n",
              "      <td>0</td>\n",
              "      <td>None</td>\n",
              "      <td>None</td>\n",
              "      <td>None</td>\n",
              "      <td>07-Feb-04</td>\n",
              "      <td>I</td>\n",
              "      <td>NaN</td>\n",
              "      <td>NaN</td>\n",
              "      <td>NaN</td>\n",
              "      <td>NaN</td>\n",
              "      <td>NaN</td>\n",
              "      <td>NaN</td>\n",
              "      <td>NaN</td>\n",
              "      <td>01-Feb-04</td>\n",
              "      <td>18-Feb-04</td>\n",
              "      <td>First</td>\n",
              "      <td>E</td>\n",
              "      <td>2</td>\n",
              "    </tr>\n",
              "    <tr>\n",
              "      <th>4</th>\n",
              "      <td>521364</td>\n",
              "      <td>6529</td>\n",
              "      <td>28-Feb-06</td>\n",
              "      <td>15</td>\n",
              "      <td>1</td>\n",
              "      <td>0</td>\n",
              "      <td>0</td>\n",
              "      <td>7</td>\n",
              "      <td>0</td>\n",
              "      <td>0</td>\n",
              "      <td>0</td>\n",
              "      <td>1</td>\n",
              "      <td>1</td>\n",
              "      <td>70</td>\n",
              "      <td>40</td>\n",
              "      <td>04-Jul-03</td>\n",
              "      <td>I</td>\n",
              "      <td>Technology</td>\n",
              "      <td>NaN</td>\n",
              "      <td>NaN</td>\n",
              "      <td>NaN</td>\n",
              "      <td>0.845597</td>\n",
              "      <td>NaN</td>\n",
              "      <td>NaN</td>\n",
              "      <td>30-Mar-06</td>\n",
              "      <td>03-Apr-06</td>\n",
              "      <td>Second</td>\n",
              "      <td>A</td>\n",
              "      <td>2</td>\n",
              "    </tr>\n",
              "  </tbody>\n",
              "</table>\n",
              "</div>\n",
              "      <button class=\"colab-df-convert\" onclick=\"convertToInteractive('df-f56fd73d-ac51-4eb2-9028-9c38a733c154')\"\n",
              "              title=\"Convert this dataframe to an interactive table.\"\n",
              "              style=\"display:none;\">\n",
              "        \n",
              "  <svg xmlns=\"http://www.w3.org/2000/svg\" height=\"24px\"viewBox=\"0 0 24 24\"\n",
              "       width=\"24px\">\n",
              "    <path d=\"M0 0h24v24H0V0z\" fill=\"none\"/>\n",
              "    <path d=\"M18.56 5.44l.94 2.06.94-2.06 2.06-.94-2.06-.94-.94-2.06-.94 2.06-2.06.94zm-11 1L8.5 8.5l.94-2.06 2.06-.94-2.06-.94L8.5 2.5l-.94 2.06-2.06.94zm10 10l.94 2.06.94-2.06 2.06-.94-2.06-.94-.94-2.06-.94 2.06-2.06.94z\"/><path d=\"M17.41 7.96l-1.37-1.37c-.4-.4-.92-.59-1.43-.59-.52 0-1.04.2-1.43.59L10.3 9.45l-7.72 7.72c-.78.78-.78 2.05 0 2.83L4 21.41c.39.39.9.59 1.41.59.51 0 1.02-.2 1.41-.59l7.78-7.78 2.81-2.81c.8-.78.8-2.07 0-2.86zM5.41 20L4 18.59l7.72-7.72 1.47 1.35L5.41 20z\"/>\n",
              "  </svg>\n",
              "      </button>\n",
              "      \n",
              "  <style>\n",
              "    .colab-df-container {\n",
              "      display:flex;\n",
              "      flex-wrap:wrap;\n",
              "      gap: 12px;\n",
              "    }\n",
              "\n",
              "    .colab-df-convert {\n",
              "      background-color: #E8F0FE;\n",
              "      border: none;\n",
              "      border-radius: 50%;\n",
              "      cursor: pointer;\n",
              "      display: none;\n",
              "      fill: #1967D2;\n",
              "      height: 32px;\n",
              "      padding: 0 0 0 0;\n",
              "      width: 32px;\n",
              "    }\n",
              "\n",
              "    .colab-df-convert:hover {\n",
              "      background-color: #E2EBFA;\n",
              "      box-shadow: 0px 1px 2px rgba(60, 64, 67, 0.3), 0px 1px 3px 1px rgba(60, 64, 67, 0.15);\n",
              "      fill: #174EA6;\n",
              "    }\n",
              "\n",
              "    [theme=dark] .colab-df-convert {\n",
              "      background-color: #3B4455;\n",
              "      fill: #D2E3FC;\n",
              "    }\n",
              "\n",
              "    [theme=dark] .colab-df-convert:hover {\n",
              "      background-color: #434B5C;\n",
              "      box-shadow: 0px 1px 3px 1px rgba(0, 0, 0, 0.15);\n",
              "      filter: drop-shadow(0px 1px 2px rgba(0, 0, 0, 0.3));\n",
              "      fill: #FFFFFF;\n",
              "    }\n",
              "  </style>\n",
              "\n",
              "      <script>\n",
              "        const buttonEl =\n",
              "          document.querySelector('#df-f56fd73d-ac51-4eb2-9028-9c38a733c154 button.colab-df-convert');\n",
              "        buttonEl.style.display =\n",
              "          google.colab.kernel.accessAllowed ? 'block' : 'none';\n",
              "\n",
              "        async function convertToInteractive(key) {\n",
              "          const element = document.querySelector('#df-f56fd73d-ac51-4eb2-9028-9c38a733c154');\n",
              "          const dataTable =\n",
              "            await google.colab.kernel.invokeFunction('convertToInteractive',\n",
              "                                                     [key], {});\n",
              "          if (!dataTable) return;\n",
              "\n",
              "          const docLinkHtml = 'Like what you see? Visit the ' +\n",
              "            '<a target=\"_blank\" href=https://colab.research.google.com/notebooks/data_table.ipynb>data table notebook</a>'\n",
              "            + ' to learn more about interactive tables.';\n",
              "          element.innerHTML = '';\n",
              "          dataTable['output_type'] = 'display_data';\n",
              "          await google.colab.output.renderOutput(dataTable, element);\n",
              "          const docLink = document.createElement('div');\n",
              "          docLink.innerHTML = docLinkHtml;\n",
              "          element.appendChild(docLink);\n",
              "        }\n",
              "      </script>\n",
              "    </div>\n",
              "  </div>\n",
              "  "
            ]
          },
          "metadata": {},
          "execution_count": 177
        }
      ]
    },
    {
      "cell_type": "code",
      "source": [
        "# social media\n",
        "combined['social_media']=combined['Online_Follower']+combined['LinkedIn_Shared']+combined['LinkedIn_Shared']+combined['Twitter_Shared']+combined['Facebook_Shared']"
      ],
      "metadata": {
        "id": "vR8swaM-5CZ8"
      },
      "execution_count": null,
      "outputs": []
    },
    {
      "cell_type": "code",
      "source": [
        "combined.social_media.value_counts()"
      ],
      "metadata": {
        "colab": {
          "base_uri": "https://localhost:8080/"
        },
        "id": "A6UbkMWD5CdT",
        "outputId": "410b01f1-9a47-400f-cb33-e9e4dab9f350"
      },
      "execution_count": null,
      "outputs": [
        {
          "output_type": "execute_result",
          "data": {
            "text/plain": [
              "0    98940\n",
              "3     3391\n",
              "2     3390\n",
              "4     1934\n",
              "1     1840\n",
              "5     1032\n",
              "Name: social_media, dtype: int64"
            ]
          },
          "metadata": {},
          "execution_count": 179
        }
      ]
    },
    {
      "cell_type": "code",
      "source": [
        "combined[\"Registration_Date\"] = pd.to_datetime(combined.Registration_Date, \n",
        "                                               dayfirst=True)# Convert the data in Datetime Format\n",
        "combined[\"Camp_Start_Date\"] = pd.to_datetime(combined.Camp_Start_Date, \n",
        "                                             dayfirst=True)\n",
        "combined[\"Camp_End_Date\"] = pd.to_datetime(combined.Camp_End_Date, \n",
        "                                           dayfirst=True)\n",
        "combined[\"First_Interaction\"] = pd.to_datetime(combined.First_Interaction, \n",
        "                                               dayfirst=True)\n"
      ],
      "metadata": {
        "id": "rTulg0TY93_7"
      },
      "execution_count": null,
      "outputs": []
    },
    {
      "cell_type": "code",
      "source": [
        "combined['days_interaction']=abs(combined.Registration_Date-combined.First_Interaction).dt.days"
      ],
      "metadata": {
        "id": "eBdtWAfa94CH"
      },
      "execution_count": null,
      "outputs": []
    },
    {
      "cell_type": "code",
      "source": [
        "combined['camp_duration']=abs(combined.Camp_Start_Date-combined.Camp_End_Date).dt.days"
      ],
      "metadata": {
        "id": "uU-SsgAk94Ej"
      },
      "execution_count": null,
      "outputs": []
    },
    {
      "cell_type": "code",
      "source": [
        "combined['camp_registration']=abs(combined.Registration_Date-combined.Camp_Start_Date).dt.days"
      ],
      "metadata": {
        "id": "u7AuXm8rCbhs"
      },
      "execution_count": null,
      "outputs": []
    },
    {
      "cell_type": "code",
      "source": [
        "# Sequence :: Registers and then Camp Date is Announced=>Goes in a Camp\n",
        "# Gets the Test Done=>HealthScore=>Camp Ends...\n",
        "\n",
        "# Registration Date will be the oldest date=>Camp Start Date =>Camp End Date\n",
        "# Camp Start<First Interaction<Camp end Date = 1 else 0\n",
        "# Wherever we see the above pattern, we will return 1 else 0.\n"
      ],
      "metadata": {
        "id": "dUgbqEikItG7"
      },
      "execution_count": null,
      "outputs": []
    },
    {
      "cell_type": "code",
      "source": [
        "def dates_between(start,inter,end):\n",
        "  if(start<inter<end):\n",
        "    return 1\n",
        "  else:\n",
        "    0"
      ],
      "metadata": {
        "id": "-z4FyLu1CbkO"
      },
      "execution_count": null,
      "outputs": []
    },
    {
      "cell_type": "code",
      "source": [
        "combined['patient_int_date']=combined.apply(lambda x:dates_between(x['Camp_Start_Date'],x['First_Interaction'],x['Camp_End_Date']),axis=1)"
      ],
      "metadata": {
        "id": "_FD4i7cwCbl5"
      },
      "execution_count": null,
      "outputs": []
    },
    {
      "cell_type": "code",
      "source": [],
      "metadata": {
        "id": "tmDSYQn8CbpT"
      },
      "execution_count": null,
      "outputs": []
    },
    {
      "cell_type": "code",
      "source": [
        "abs(combined.Camp_Start_Date-combined.Camp_End_Date).dt.days"
      ],
      "metadata": {
        "colab": {
          "base_uri": "https://localhost:8080/"
        },
        "id": "u9FERDp5CDzo",
        "outputId": "45de91b9-bf2f-40d5-94a6-449ce4fb8020"
      },
      "execution_count": null,
      "outputs": [
        {
          "output_type": "execute_result",
          "data": {
            "text/plain": [
              "0          59\n",
              "1          59\n",
              "2         751\n",
              "3          17\n",
              "4           4\n",
              "         ... \n",
              "110522      9\n",
              "110523      5\n",
              "110524      5\n",
              "110525      5\n",
              "110526      5\n",
              "Length: 110527, dtype: int64"
            ]
          },
          "metadata": {},
          "execution_count": 187
        }
      ]
    },
    {
      "cell_type": "code",
      "source": [
        "combined.Camp_Start_Date-combined.Camp_End_Date"
      ],
      "metadata": {
        "colab": {
          "base_uri": "https://localhost:8080/"
        },
        "id": "KN4LUZor94G7",
        "outputId": "4ce9d1f2-39b5-4408-e57f-b30dc3da1d33"
      },
      "execution_count": null,
      "outputs": [
        {
          "output_type": "execute_result",
          "data": {
            "text/plain": [
              "0         -59 days\n",
              "1         -59 days\n",
              "2        -751 days\n",
              "3         -17 days\n",
              "4          -4 days\n",
              "            ...   \n",
              "110522     -9 days\n",
              "110523     -5 days\n",
              "110524     -5 days\n",
              "110525     -5 days\n",
              "110526     -5 days\n",
              "Length: 110527, dtype: timedelta64[ns]"
            ]
          },
          "metadata": {},
          "execution_count": 188
        }
      ]
    },
    {
      "cell_type": "code",
      "source": [
        "combined['Registration_Days']=combined.Registration_Date.dt.day\n",
        "combined['Registration_month']=combined.Registration_Date.dt.month\n",
        "combined['Registration_years']=combined.Registration_Date.dt.year"
      ],
      "metadata": {
        "id": "T3xDsJ4m94Jc"
      },
      "execution_count": null,
      "outputs": []
    },
    {
      "cell_type": "code",
      "source": [
        "combined['Camp_Start_year']=combined.Camp_Start_Date.dt.year\n",
        "combined['First_interaction_Year']=combined.First_Interaction.dt.year"
      ],
      "metadata": {
        "id": "ZukZnqbJ94Mz"
      },
      "execution_count": null,
      "outputs": []
    },
    {
      "cell_type": "code",
      "source": [
        "combined[\"Patients_PerDay\"]=combined.groupby(\"Patient_ID\")[\"Registration_Days\"].transform(\"nunique\")\n",
        "\n",
        "combined[\"Patients_PerMonth\"]=combined.groupby(\"Patient_ID\")[\"Registration_month\"].transform(\"nunique\")\n",
        "\n",
        "combined[\"Patients_PerYear\"]=combined.groupby(\"Patient_ID\")[\"Registration_years\"].transform(\"nunique\")\n"
      ],
      "metadata": {
        "id": "2CPmYrl7yVJa"
      },
      "execution_count": null,
      "outputs": []
    },
    {
      "cell_type": "code",
      "source": [
        "# Patient Count per Health Camp\n",
        "combined[\"Patient_PerHC\"] = combined.groupby([\"Health_Camp_ID\"])[\"Patient_ID\"].transform(\"nunique\")\n"
      ],
      "metadata": {
        "id": "seGfoYXMMLWo"
      },
      "execution_count": null,
      "outputs": []
    },
    {
      "cell_type": "code",
      "source": [
        "combined.head()"
      ],
      "metadata": {
        "colab": {
          "base_uri": "https://localhost:8080/",
          "height": 288
        },
        "id": "5rL1lJ8XND4W",
        "outputId": "7ee0155f-37c4-4c95-a2ed-ee6b96ac05bd"
      },
      "execution_count": null,
      "outputs": [
        {
          "output_type": "execute_result",
          "data": {
            "text/plain": [
              "   Patient_ID  Health_Camp_ID Registration_Date  Var1  Var2  Var3  Var4  Var5  \\\n",
              "0      489652            6578        2005-09-10     4     0     0     0     2   \n",
              "1      507246            6578        2005-08-18    45     5     0     0     7   \n",
              "2      523729            6534        2006-04-29     0     0     0     0     0   \n",
              "3      524931            6535        2004-02-07     0     0     0     0     0   \n",
              "4      521364            6529        2006-02-28    15     1     0     0     7   \n",
              "\n",
              "   Online_Follower  LinkedIn_Shared  Twitter_Shared  Facebook_Shared Income  \\\n",
              "0                0                0               0                0   None   \n",
              "1                0                0               0                0      1   \n",
              "2                0                0               0                0   None   \n",
              "3                0                0               0                0   None   \n",
              "4                0                0               0                1      1   \n",
              "\n",
              "  Education_Score   Age First_Interaction City_Type Employer_Category  \\\n",
              "0            None  None        2004-12-06       NaN               NaN   \n",
              "1              75    40        2004-09-08         C            Others   \n",
              "2            None  None        2004-06-22       NaN               NaN   \n",
              "3            None  None        2004-02-07         I               NaN   \n",
              "4              70    40        2003-07-04         I        Technology   \n",
              "\n",
              "   Donation  Health_Score  Unnamed: 4  Health Score  Number_of_stall_visited  \\\n",
              "0       NaN           NaN         NaN           NaN                      2.0   \n",
              "1       NaN           NaN         NaN           NaN                      NaN   \n",
              "2       NaN           NaN         NaN      0.402054                      NaN   \n",
              "3       NaN           NaN         NaN           NaN                      NaN   \n",
              "4       NaN           NaN         NaN      0.845597                      NaN   \n",
              "\n",
              "   Last_Stall_Visited_Number Camp_Start_Date Camp_End_Date Category1  \\\n",
              "0                        1.0      2005-08-16    2005-10-14     Third   \n",
              "1                        NaN      2005-08-16    2005-10-14     Third   \n",
              "2                        NaN      2005-10-17    2007-11-07    Second   \n",
              "3                        NaN      2004-02-01    2004-02-18     First   \n",
              "4                        NaN      2006-03-30    2006-04-03    Second   \n",
              "\n",
              "  Category2  Category3  social_media  days_interaction  camp_duration  \\\n",
              "0         G          2             0             278.0             59   \n",
              "1         G          2             0             344.0             59   \n",
              "2         A          2             0             676.0            751   \n",
              "3         E          2             0               0.0             17   \n",
              "4         A          2             1             970.0              4   \n",
              "\n",
              "   camp_registration  patient_int_date  Registration_Days  Registration_month  \\\n",
              "0               25.0               NaN               10.0                 9.0   \n",
              "1                2.0               NaN               18.0                 8.0   \n",
              "2              194.0               NaN               29.0                 4.0   \n",
              "3                6.0               1.0                7.0                 2.0   \n",
              "4               30.0               NaN               28.0                 2.0   \n",
              "\n",
              "   Registration_years  Camp_Start_year  First_interaction_Year  \\\n",
              "0              2005.0             2005                    2004   \n",
              "1              2005.0             2005                    2004   \n",
              "2              2006.0             2005                    2004   \n",
              "3              2004.0             2004                    2004   \n",
              "4              2006.0             2006                    2003   \n",
              "\n",
              "   Patients_PerDay  Patients_PerMonth  Patients_PerYear  Patient_PerHC  \n",
              "0                9                  7                 3           2837  \n",
              "1               16                 12                 4           2837  \n",
              "2                5                  4                 2           3597  \n",
              "3                4                  4                 3           1882  \n",
              "4               17                  9                 4           3823  "
            ],
            "text/html": [
              "\n",
              "  <div id=\"df-fe2ed306-4729-418b-b12e-525fef17e2f3\">\n",
              "    <div class=\"colab-df-container\">\n",
              "      <div>\n",
              "<style scoped>\n",
              "    .dataframe tbody tr th:only-of-type {\n",
              "        vertical-align: middle;\n",
              "    }\n",
              "\n",
              "    .dataframe tbody tr th {\n",
              "        vertical-align: top;\n",
              "    }\n",
              "\n",
              "    .dataframe thead th {\n",
              "        text-align: right;\n",
              "    }\n",
              "</style>\n",
              "<table border=\"1\" class=\"dataframe\">\n",
              "  <thead>\n",
              "    <tr style=\"text-align: right;\">\n",
              "      <th></th>\n",
              "      <th>Patient_ID</th>\n",
              "      <th>Health_Camp_ID</th>\n",
              "      <th>Registration_Date</th>\n",
              "      <th>Var1</th>\n",
              "      <th>Var2</th>\n",
              "      <th>Var3</th>\n",
              "      <th>Var4</th>\n",
              "      <th>Var5</th>\n",
              "      <th>Online_Follower</th>\n",
              "      <th>LinkedIn_Shared</th>\n",
              "      <th>Twitter_Shared</th>\n",
              "      <th>Facebook_Shared</th>\n",
              "      <th>Income</th>\n",
              "      <th>Education_Score</th>\n",
              "      <th>Age</th>\n",
              "      <th>First_Interaction</th>\n",
              "      <th>City_Type</th>\n",
              "      <th>Employer_Category</th>\n",
              "      <th>Donation</th>\n",
              "      <th>Health_Score</th>\n",
              "      <th>Unnamed: 4</th>\n",
              "      <th>Health Score</th>\n",
              "      <th>Number_of_stall_visited</th>\n",
              "      <th>Last_Stall_Visited_Number</th>\n",
              "      <th>Camp_Start_Date</th>\n",
              "      <th>Camp_End_Date</th>\n",
              "      <th>Category1</th>\n",
              "      <th>Category2</th>\n",
              "      <th>Category3</th>\n",
              "      <th>social_media</th>\n",
              "      <th>days_interaction</th>\n",
              "      <th>camp_duration</th>\n",
              "      <th>camp_registration</th>\n",
              "      <th>patient_int_date</th>\n",
              "      <th>Registration_Days</th>\n",
              "      <th>Registration_month</th>\n",
              "      <th>Registration_years</th>\n",
              "      <th>Camp_Start_year</th>\n",
              "      <th>First_interaction_Year</th>\n",
              "      <th>Patients_PerDay</th>\n",
              "      <th>Patients_PerMonth</th>\n",
              "      <th>Patients_PerYear</th>\n",
              "      <th>Patient_PerHC</th>\n",
              "    </tr>\n",
              "  </thead>\n",
              "  <tbody>\n",
              "    <tr>\n",
              "      <th>0</th>\n",
              "      <td>489652</td>\n",
              "      <td>6578</td>\n",
              "      <td>2005-09-10</td>\n",
              "      <td>4</td>\n",
              "      <td>0</td>\n",
              "      <td>0</td>\n",
              "      <td>0</td>\n",
              "      <td>2</td>\n",
              "      <td>0</td>\n",
              "      <td>0</td>\n",
              "      <td>0</td>\n",
              "      <td>0</td>\n",
              "      <td>None</td>\n",
              "      <td>None</td>\n",
              "      <td>None</td>\n",
              "      <td>2004-12-06</td>\n",
              "      <td>NaN</td>\n",
              "      <td>NaN</td>\n",
              "      <td>NaN</td>\n",
              "      <td>NaN</td>\n",
              "      <td>NaN</td>\n",
              "      <td>NaN</td>\n",
              "      <td>2.0</td>\n",
              "      <td>1.0</td>\n",
              "      <td>2005-08-16</td>\n",
              "      <td>2005-10-14</td>\n",
              "      <td>Third</td>\n",
              "      <td>G</td>\n",
              "      <td>2</td>\n",
              "      <td>0</td>\n",
              "      <td>278.0</td>\n",
              "      <td>59</td>\n",
              "      <td>25.0</td>\n",
              "      <td>NaN</td>\n",
              "      <td>10.0</td>\n",
              "      <td>9.0</td>\n",
              "      <td>2005.0</td>\n",
              "      <td>2005</td>\n",
              "      <td>2004</td>\n",
              "      <td>9</td>\n",
              "      <td>7</td>\n",
              "      <td>3</td>\n",
              "      <td>2837</td>\n",
              "    </tr>\n",
              "    <tr>\n",
              "      <th>1</th>\n",
              "      <td>507246</td>\n",
              "      <td>6578</td>\n",
              "      <td>2005-08-18</td>\n",
              "      <td>45</td>\n",
              "      <td>5</td>\n",
              "      <td>0</td>\n",
              "      <td>0</td>\n",
              "      <td>7</td>\n",
              "      <td>0</td>\n",
              "      <td>0</td>\n",
              "      <td>0</td>\n",
              "      <td>0</td>\n",
              "      <td>1</td>\n",
              "      <td>75</td>\n",
              "      <td>40</td>\n",
              "      <td>2004-09-08</td>\n",
              "      <td>C</td>\n",
              "      <td>Others</td>\n",
              "      <td>NaN</td>\n",
              "      <td>NaN</td>\n",
              "      <td>NaN</td>\n",
              "      <td>NaN</td>\n",
              "      <td>NaN</td>\n",
              "      <td>NaN</td>\n",
              "      <td>2005-08-16</td>\n",
              "      <td>2005-10-14</td>\n",
              "      <td>Third</td>\n",
              "      <td>G</td>\n",
              "      <td>2</td>\n",
              "      <td>0</td>\n",
              "      <td>344.0</td>\n",
              "      <td>59</td>\n",
              "      <td>2.0</td>\n",
              "      <td>NaN</td>\n",
              "      <td>18.0</td>\n",
              "      <td>8.0</td>\n",
              "      <td>2005.0</td>\n",
              "      <td>2005</td>\n",
              "      <td>2004</td>\n",
              "      <td>16</td>\n",
              "      <td>12</td>\n",
              "      <td>4</td>\n",
              "      <td>2837</td>\n",
              "    </tr>\n",
              "    <tr>\n",
              "      <th>2</th>\n",
              "      <td>523729</td>\n",
              "      <td>6534</td>\n",
              "      <td>2006-04-29</td>\n",
              "      <td>0</td>\n",
              "      <td>0</td>\n",
              "      <td>0</td>\n",
              "      <td>0</td>\n",
              "      <td>0</td>\n",
              "      <td>0</td>\n",
              "      <td>0</td>\n",
              "      <td>0</td>\n",
              "      <td>0</td>\n",
              "      <td>None</td>\n",
              "      <td>None</td>\n",
              "      <td>None</td>\n",
              "      <td>2004-06-22</td>\n",
              "      <td>NaN</td>\n",
              "      <td>NaN</td>\n",
              "      <td>NaN</td>\n",
              "      <td>NaN</td>\n",
              "      <td>NaN</td>\n",
              "      <td>0.402054</td>\n",
              "      <td>NaN</td>\n",
              "      <td>NaN</td>\n",
              "      <td>2005-10-17</td>\n",
              "      <td>2007-11-07</td>\n",
              "      <td>Second</td>\n",
              "      <td>A</td>\n",
              "      <td>2</td>\n",
              "      <td>0</td>\n",
              "      <td>676.0</td>\n",
              "      <td>751</td>\n",
              "      <td>194.0</td>\n",
              "      <td>NaN</td>\n",
              "      <td>29.0</td>\n",
              "      <td>4.0</td>\n",
              "      <td>2006.0</td>\n",
              "      <td>2005</td>\n",
              "      <td>2004</td>\n",
              "      <td>5</td>\n",
              "      <td>4</td>\n",
              "      <td>2</td>\n",
              "      <td>3597</td>\n",
              "    </tr>\n",
              "    <tr>\n",
              "      <th>3</th>\n",
              "      <td>524931</td>\n",
              "      <td>6535</td>\n",
              "      <td>2004-02-07</td>\n",
              "      <td>0</td>\n",
              "      <td>0</td>\n",
              "      <td>0</td>\n",
              "      <td>0</td>\n",
              "      <td>0</td>\n",
              "      <td>0</td>\n",
              "      <td>0</td>\n",
              "      <td>0</td>\n",
              "      <td>0</td>\n",
              "      <td>None</td>\n",
              "      <td>None</td>\n",
              "      <td>None</td>\n",
              "      <td>2004-02-07</td>\n",
              "      <td>I</td>\n",
              "      <td>NaN</td>\n",
              "      <td>NaN</td>\n",
              "      <td>NaN</td>\n",
              "      <td>NaN</td>\n",
              "      <td>NaN</td>\n",
              "      <td>NaN</td>\n",
              "      <td>NaN</td>\n",
              "      <td>2004-02-01</td>\n",
              "      <td>2004-02-18</td>\n",
              "      <td>First</td>\n",
              "      <td>E</td>\n",
              "      <td>2</td>\n",
              "      <td>0</td>\n",
              "      <td>0.0</td>\n",
              "      <td>17</td>\n",
              "      <td>6.0</td>\n",
              "      <td>1.0</td>\n",
              "      <td>7.0</td>\n",
              "      <td>2.0</td>\n",
              "      <td>2004.0</td>\n",
              "      <td>2004</td>\n",
              "      <td>2004</td>\n",
              "      <td>4</td>\n",
              "      <td>4</td>\n",
              "      <td>3</td>\n",
              "      <td>1882</td>\n",
              "    </tr>\n",
              "    <tr>\n",
              "      <th>4</th>\n",
              "      <td>521364</td>\n",
              "      <td>6529</td>\n",
              "      <td>2006-02-28</td>\n",
              "      <td>15</td>\n",
              "      <td>1</td>\n",
              "      <td>0</td>\n",
              "      <td>0</td>\n",
              "      <td>7</td>\n",
              "      <td>0</td>\n",
              "      <td>0</td>\n",
              "      <td>0</td>\n",
              "      <td>1</td>\n",
              "      <td>1</td>\n",
              "      <td>70</td>\n",
              "      <td>40</td>\n",
              "      <td>2003-07-04</td>\n",
              "      <td>I</td>\n",
              "      <td>Technology</td>\n",
              "      <td>NaN</td>\n",
              "      <td>NaN</td>\n",
              "      <td>NaN</td>\n",
              "      <td>0.845597</td>\n",
              "      <td>NaN</td>\n",
              "      <td>NaN</td>\n",
              "      <td>2006-03-30</td>\n",
              "      <td>2006-04-03</td>\n",
              "      <td>Second</td>\n",
              "      <td>A</td>\n",
              "      <td>2</td>\n",
              "      <td>1</td>\n",
              "      <td>970.0</td>\n",
              "      <td>4</td>\n",
              "      <td>30.0</td>\n",
              "      <td>NaN</td>\n",
              "      <td>28.0</td>\n",
              "      <td>2.0</td>\n",
              "      <td>2006.0</td>\n",
              "      <td>2006</td>\n",
              "      <td>2003</td>\n",
              "      <td>17</td>\n",
              "      <td>9</td>\n",
              "      <td>4</td>\n",
              "      <td>3823</td>\n",
              "    </tr>\n",
              "  </tbody>\n",
              "</table>\n",
              "</div>\n",
              "      <button class=\"colab-df-convert\" onclick=\"convertToInteractive('df-fe2ed306-4729-418b-b12e-525fef17e2f3')\"\n",
              "              title=\"Convert this dataframe to an interactive table.\"\n",
              "              style=\"display:none;\">\n",
              "        \n",
              "  <svg xmlns=\"http://www.w3.org/2000/svg\" height=\"24px\"viewBox=\"0 0 24 24\"\n",
              "       width=\"24px\">\n",
              "    <path d=\"M0 0h24v24H0V0z\" fill=\"none\"/>\n",
              "    <path d=\"M18.56 5.44l.94 2.06.94-2.06 2.06-.94-2.06-.94-.94-2.06-.94 2.06-2.06.94zm-11 1L8.5 8.5l.94-2.06 2.06-.94-2.06-.94L8.5 2.5l-.94 2.06-2.06.94zm10 10l.94 2.06.94-2.06 2.06-.94-2.06-.94-.94-2.06-.94 2.06-2.06.94z\"/><path d=\"M17.41 7.96l-1.37-1.37c-.4-.4-.92-.59-1.43-.59-.52 0-1.04.2-1.43.59L10.3 9.45l-7.72 7.72c-.78.78-.78 2.05 0 2.83L4 21.41c.39.39.9.59 1.41.59.51 0 1.02-.2 1.41-.59l7.78-7.78 2.81-2.81c.8-.78.8-2.07 0-2.86zM5.41 20L4 18.59l7.72-7.72 1.47 1.35L5.41 20z\"/>\n",
              "  </svg>\n",
              "      </button>\n",
              "      \n",
              "  <style>\n",
              "    .colab-df-container {\n",
              "      display:flex;\n",
              "      flex-wrap:wrap;\n",
              "      gap: 12px;\n",
              "    }\n",
              "\n",
              "    .colab-df-convert {\n",
              "      background-color: #E8F0FE;\n",
              "      border: none;\n",
              "      border-radius: 50%;\n",
              "      cursor: pointer;\n",
              "      display: none;\n",
              "      fill: #1967D2;\n",
              "      height: 32px;\n",
              "      padding: 0 0 0 0;\n",
              "      width: 32px;\n",
              "    }\n",
              "\n",
              "    .colab-df-convert:hover {\n",
              "      background-color: #E2EBFA;\n",
              "      box-shadow: 0px 1px 2px rgba(60, 64, 67, 0.3), 0px 1px 3px 1px rgba(60, 64, 67, 0.15);\n",
              "      fill: #174EA6;\n",
              "    }\n",
              "\n",
              "    [theme=dark] .colab-df-convert {\n",
              "      background-color: #3B4455;\n",
              "      fill: #D2E3FC;\n",
              "    }\n",
              "\n",
              "    [theme=dark] .colab-df-convert:hover {\n",
              "      background-color: #434B5C;\n",
              "      box-shadow: 0px 1px 3px 1px rgba(0, 0, 0, 0.15);\n",
              "      filter: drop-shadow(0px 1px 2px rgba(0, 0, 0, 0.3));\n",
              "      fill: #FFFFFF;\n",
              "    }\n",
              "  </style>\n",
              "\n",
              "      <script>\n",
              "        const buttonEl =\n",
              "          document.querySelector('#df-fe2ed306-4729-418b-b12e-525fef17e2f3 button.colab-df-convert');\n",
              "        buttonEl.style.display =\n",
              "          google.colab.kernel.accessAllowed ? 'block' : 'none';\n",
              "\n",
              "        async function convertToInteractive(key) {\n",
              "          const element = document.querySelector('#df-fe2ed306-4729-418b-b12e-525fef17e2f3');\n",
              "          const dataTable =\n",
              "            await google.colab.kernel.invokeFunction('convertToInteractive',\n",
              "                                                     [key], {});\n",
              "          if (!dataTable) return;\n",
              "\n",
              "          const docLinkHtml = 'Like what you see? Visit the ' +\n",
              "            '<a target=\"_blank\" href=https://colab.research.google.com/notebooks/data_table.ipynb>data table notebook</a>'\n",
              "            + ' to learn more about interactive tables.';\n",
              "          element.innerHTML = '';\n",
              "          dataTable['output_type'] = 'display_data';\n",
              "          await google.colab.output.renderOutput(dataTable, element);\n",
              "          const docLink = document.createElement('div');\n",
              "          docLink.innerHTML = docLinkHtml;\n",
              "          element.appendChild(docLink);\n",
              "        }\n",
              "      </script>\n",
              "    </div>\n",
              "  </div>\n",
              "  "
            ]
          },
          "metadata": {},
          "execution_count": 193
        }
      ]
    },
    {
      "cell_type": "code",
      "source": [
        "combined.columns"
      ],
      "metadata": {
        "colab": {
          "base_uri": "https://localhost:8080/"
        },
        "id": "MJJdDlukPuQW",
        "outputId": "fb28ca13-c04e-41bb-b544-a73bc1e8d19c"
      },
      "execution_count": null,
      "outputs": [
        {
          "output_type": "execute_result",
          "data": {
            "text/plain": [
              "Index(['Patient_ID', 'Health_Camp_ID', 'Registration_Date', 'Var1', 'Var2',\n",
              "       'Var3', 'Var4', 'Var5', 'Online_Follower', 'LinkedIn_Shared',\n",
              "       'Twitter_Shared', 'Facebook_Shared', 'Income', 'Education_Score', 'Age',\n",
              "       'First_Interaction', 'City_Type', 'Employer_Category', 'Donation',\n",
              "       'Health_Score', 'Unnamed: 4', 'Health Score', 'Number_of_stall_visited',\n",
              "       'Last_Stall_Visited_Number', 'Camp_Start_Date', 'Camp_End_Date',\n",
              "       'Category1', 'Category2', 'Category3', 'social_media',\n",
              "       'days_interaction', 'camp_duration', 'camp_registration',\n",
              "       'patient_int_date', 'Registration_Days', 'Registration_month',\n",
              "       'Registration_years', 'Camp_Start_year', 'First_interaction_Year',\n",
              "       'Patients_PerDay', 'Patients_PerMonth', 'Patients_PerYear',\n",
              "       'Patient_PerHC'],\n",
              "      dtype='object')"
            ]
          },
          "metadata": {},
          "execution_count": 194
        }
      ]
    },
    {
      "cell_type": "code",
      "source": [
        "mapped={'First':1,'Second':2,'Third':3}\n",
        "combined.Category1=combined.Category1.map(mapped)"
      ],
      "metadata": {
        "id": "DpA33PzqNlSI"
      },
      "execution_count": null,
      "outputs": []
    },
    {
      "cell_type": "code",
      "source": [
        "combined.Category2=pd.factorize(combined['Category2'])[0]"
      ],
      "metadata": {
        "id": "ZkhjM0YMNlbf"
      },
      "execution_count": null,
      "outputs": []
    },
    {
      "cell_type": "code",
      "source": [
        "combined.City_Type=pd.factorize(combined['City_Type'])[0]"
      ],
      "metadata": {
        "id": "mb8jUZJmNle2"
      },
      "execution_count": null,
      "outputs": []
    },
    {
      "cell_type": "code",
      "source": [
        "combined.Employer_Category=pd.factorize(combined['Employer_Category'])[0]"
      ],
      "metadata": {
        "id": "qCuvLVYEP5eJ"
      },
      "execution_count": null,
      "outputs": []
    },
    {
      "cell_type": "code",
      "source": [
        "combined.Donation.fillna(combined.Donation.median(),inplace=True)"
      ],
      "metadata": {
        "id": "P-L_hQpcP5gb"
      },
      "execution_count": null,
      "outputs": []
    },
    {
      "cell_type": "code",
      "source": [
        "freq=combined.Health_Camp_ID.value_counts(normalize=True)"
      ],
      "metadata": {
        "id": "S1Xobl3PP5jQ"
      },
      "execution_count": null,
      "outputs": []
    },
    {
      "cell_type": "code",
      "source": [
        "combined['health_camp_freq']=combined.Health_Camp_ID.map(freq)"
      ],
      "metadata": {
        "id": "HMpikhisSqV2"
      },
      "execution_count": null,
      "outputs": []
    },
    {
      "cell_type": "code",
      "source": [
        "def outcomes(hs, hs_, stall, last):\n",
        "    if ((hs>0) | (hs_>0) | (stall>0) | (last>0)):\n",
        "        return 1\n",
        "    else:\n",
        "        return 0\n"
      ],
      "metadata": {
        "id": "UP1yYhTYSqYQ"
      },
      "execution_count": null,
      "outputs": []
    },
    {
      "cell_type": "code",
      "source": [
        "combined.columns"
      ],
      "metadata": {
        "colab": {
          "base_uri": "https://localhost:8080/"
        },
        "id": "ULhTufXqVbqM",
        "outputId": "71ff55c4-f93b-4b36-ca62-91b0ddb82c9e"
      },
      "execution_count": null,
      "outputs": [
        {
          "output_type": "execute_result",
          "data": {
            "text/plain": [
              "Index(['Patient_ID', 'Health_Camp_ID', 'Registration_Date', 'Var1', 'Var2',\n",
              "       'Var3', 'Var4', 'Var5', 'Online_Follower', 'LinkedIn_Shared',\n",
              "       'Twitter_Shared', 'Facebook_Shared', 'Income', 'Education_Score', 'Age',\n",
              "       'First_Interaction', 'City_Type', 'Employer_Category', 'Donation',\n",
              "       'Health_Score', 'Unnamed: 4', 'Health Score', 'Number_of_stall_visited',\n",
              "       'Last_Stall_Visited_Number', 'Camp_Start_Date', 'Camp_End_Date',\n",
              "       'Category1', 'Category2', 'Category3', 'social_media',\n",
              "       'days_interaction', 'camp_duration', 'camp_registration',\n",
              "       'patient_int_date', 'Registration_Days', 'Registration_month',\n",
              "       'Registration_years', 'Camp_Start_year', 'First_interaction_Year',\n",
              "       'Patients_PerDay', 'Patients_PerMonth', 'Patients_PerYear',\n",
              "       'Patient_PerHC', 'health_camp_freq'],\n",
              "      dtype='object')"
            ]
          },
          "metadata": {},
          "execution_count": 203
        }
      ]
    },
    {
      "cell_type": "code",
      "source": [
        "# generating the target variable\n",
        "\n",
        "\n",
        "combined['tv']=combined.apply(lambda x:outcomes(x['Health_Score'],x['Health Score'],x['Number_of_stall_visited'],x['Last_Stall_Visited_Number']),axis=1)"
      ],
      "metadata": {
        "id": "0RbVdMJQSqan"
      },
      "execution_count": null,
      "outputs": []
    },
    {
      "cell_type": "code",
      "source": [
        "combined.head()"
      ],
      "metadata": {
        "colab": {
          "base_uri": "https://localhost:8080/",
          "height": 288
        },
        "id": "ji8nGMMgSqdH",
        "outputId": "f5abbbbc-d50c-4541-d001-4cabafedcf65"
      },
      "execution_count": null,
      "outputs": [
        {
          "output_type": "execute_result",
          "data": {
            "text/plain": [
              "   Patient_ID  Health_Camp_ID Registration_Date  Var1  Var2  Var3  Var4  Var5  \\\n",
              "0      489652            6578        2005-09-10     4     0     0     0     2   \n",
              "1      507246            6578        2005-08-18    45     5     0     0     7   \n",
              "2      523729            6534        2006-04-29     0     0     0     0     0   \n",
              "3      524931            6535        2004-02-07     0     0     0     0     0   \n",
              "4      521364            6529        2006-02-28    15     1     0     0     7   \n",
              "\n",
              "   Online_Follower  LinkedIn_Shared  Twitter_Shared  Facebook_Shared Income  \\\n",
              "0                0                0               0                0   None   \n",
              "1                0                0               0                0      1   \n",
              "2                0                0               0                0   None   \n",
              "3                0                0               0                0   None   \n",
              "4                0                0               0                1      1   \n",
              "\n",
              "  Education_Score   Age First_Interaction  City_Type  Employer_Category  \\\n",
              "0            None  None        2004-12-06         -1                 -1   \n",
              "1              75    40        2004-09-08          0                  0   \n",
              "2            None  None        2004-06-22         -1                 -1   \n",
              "3            None  None        2004-02-07          1                 -1   \n",
              "4              70    40        2003-07-04          1                  1   \n",
              "\n",
              "   Donation  Health_Score  Unnamed: 4  Health Score  Number_of_stall_visited  \\\n",
              "0      30.0           NaN         NaN           NaN                      2.0   \n",
              "1      30.0           NaN         NaN           NaN                      NaN   \n",
              "2      30.0           NaN         NaN      0.402054                      NaN   \n",
              "3      30.0           NaN         NaN           NaN                      NaN   \n",
              "4      30.0           NaN         NaN      0.845597                      NaN   \n",
              "\n",
              "   Last_Stall_Visited_Number Camp_Start_Date Camp_End_Date  Category1  \\\n",
              "0                        1.0      2005-08-16    2005-10-14          3   \n",
              "1                        NaN      2005-08-16    2005-10-14          3   \n",
              "2                        NaN      2005-10-17    2007-11-07          2   \n",
              "3                        NaN      2004-02-01    2004-02-18          1   \n",
              "4                        NaN      2006-03-30    2006-04-03          2   \n",
              "\n",
              "   Category2  Category3  social_media  days_interaction  camp_duration  \\\n",
              "0          0          2             0             278.0             59   \n",
              "1          0          2             0             344.0             59   \n",
              "2          1          2             0             676.0            751   \n",
              "3          2          2             0               0.0             17   \n",
              "4          1          2             1             970.0              4   \n",
              "\n",
              "   camp_registration  patient_int_date  Registration_Days  Registration_month  \\\n",
              "0               25.0               NaN               10.0                 9.0   \n",
              "1                2.0               NaN               18.0                 8.0   \n",
              "2              194.0               NaN               29.0                 4.0   \n",
              "3                6.0               1.0                7.0                 2.0   \n",
              "4               30.0               NaN               28.0                 2.0   \n",
              "\n",
              "   Registration_years  Camp_Start_year  First_interaction_Year  \\\n",
              "0              2005.0             2005                    2004   \n",
              "1              2005.0             2005                    2004   \n",
              "2              2006.0             2005                    2004   \n",
              "3              2004.0             2004                    2004   \n",
              "4              2006.0             2006                    2003   \n",
              "\n",
              "   Patients_PerDay  Patients_PerMonth  Patients_PerYear  Patient_PerHC  \\\n",
              "0                9                  7                 3           2837   \n",
              "1               16                 12                 4           2837   \n",
              "2                5                  4                 2           3597   \n",
              "3                4                  4                 3           1882   \n",
              "4               17                  9                 4           3823   \n",
              "\n",
              "   health_camp_freq  tv  \n",
              "0          0.025668   1  \n",
              "1          0.025668   0  \n",
              "2          0.032544   1  \n",
              "3          0.017028   0  \n",
              "4          0.034589   1  "
            ],
            "text/html": [
              "\n",
              "  <div id=\"df-6e9235b0-4d3e-4d6d-9bc4-8e3cc4a17d46\">\n",
              "    <div class=\"colab-df-container\">\n",
              "      <div>\n",
              "<style scoped>\n",
              "    .dataframe tbody tr th:only-of-type {\n",
              "        vertical-align: middle;\n",
              "    }\n",
              "\n",
              "    .dataframe tbody tr th {\n",
              "        vertical-align: top;\n",
              "    }\n",
              "\n",
              "    .dataframe thead th {\n",
              "        text-align: right;\n",
              "    }\n",
              "</style>\n",
              "<table border=\"1\" class=\"dataframe\">\n",
              "  <thead>\n",
              "    <tr style=\"text-align: right;\">\n",
              "      <th></th>\n",
              "      <th>Patient_ID</th>\n",
              "      <th>Health_Camp_ID</th>\n",
              "      <th>Registration_Date</th>\n",
              "      <th>Var1</th>\n",
              "      <th>Var2</th>\n",
              "      <th>Var3</th>\n",
              "      <th>Var4</th>\n",
              "      <th>Var5</th>\n",
              "      <th>Online_Follower</th>\n",
              "      <th>LinkedIn_Shared</th>\n",
              "      <th>Twitter_Shared</th>\n",
              "      <th>Facebook_Shared</th>\n",
              "      <th>Income</th>\n",
              "      <th>Education_Score</th>\n",
              "      <th>Age</th>\n",
              "      <th>First_Interaction</th>\n",
              "      <th>City_Type</th>\n",
              "      <th>Employer_Category</th>\n",
              "      <th>Donation</th>\n",
              "      <th>Health_Score</th>\n",
              "      <th>Unnamed: 4</th>\n",
              "      <th>Health Score</th>\n",
              "      <th>Number_of_stall_visited</th>\n",
              "      <th>Last_Stall_Visited_Number</th>\n",
              "      <th>Camp_Start_Date</th>\n",
              "      <th>Camp_End_Date</th>\n",
              "      <th>Category1</th>\n",
              "      <th>Category2</th>\n",
              "      <th>Category3</th>\n",
              "      <th>social_media</th>\n",
              "      <th>days_interaction</th>\n",
              "      <th>camp_duration</th>\n",
              "      <th>camp_registration</th>\n",
              "      <th>patient_int_date</th>\n",
              "      <th>Registration_Days</th>\n",
              "      <th>Registration_month</th>\n",
              "      <th>Registration_years</th>\n",
              "      <th>Camp_Start_year</th>\n",
              "      <th>First_interaction_Year</th>\n",
              "      <th>Patients_PerDay</th>\n",
              "      <th>Patients_PerMonth</th>\n",
              "      <th>Patients_PerYear</th>\n",
              "      <th>Patient_PerHC</th>\n",
              "      <th>health_camp_freq</th>\n",
              "      <th>tv</th>\n",
              "    </tr>\n",
              "  </thead>\n",
              "  <tbody>\n",
              "    <tr>\n",
              "      <th>0</th>\n",
              "      <td>489652</td>\n",
              "      <td>6578</td>\n",
              "      <td>2005-09-10</td>\n",
              "      <td>4</td>\n",
              "      <td>0</td>\n",
              "      <td>0</td>\n",
              "      <td>0</td>\n",
              "      <td>2</td>\n",
              "      <td>0</td>\n",
              "      <td>0</td>\n",
              "      <td>0</td>\n",
              "      <td>0</td>\n",
              "      <td>None</td>\n",
              "      <td>None</td>\n",
              "      <td>None</td>\n",
              "      <td>2004-12-06</td>\n",
              "      <td>-1</td>\n",
              "      <td>-1</td>\n",
              "      <td>30.0</td>\n",
              "      <td>NaN</td>\n",
              "      <td>NaN</td>\n",
              "      <td>NaN</td>\n",
              "      <td>2.0</td>\n",
              "      <td>1.0</td>\n",
              "      <td>2005-08-16</td>\n",
              "      <td>2005-10-14</td>\n",
              "      <td>3</td>\n",
              "      <td>0</td>\n",
              "      <td>2</td>\n",
              "      <td>0</td>\n",
              "      <td>278.0</td>\n",
              "      <td>59</td>\n",
              "      <td>25.0</td>\n",
              "      <td>NaN</td>\n",
              "      <td>10.0</td>\n",
              "      <td>9.0</td>\n",
              "      <td>2005.0</td>\n",
              "      <td>2005</td>\n",
              "      <td>2004</td>\n",
              "      <td>9</td>\n",
              "      <td>7</td>\n",
              "      <td>3</td>\n",
              "      <td>2837</td>\n",
              "      <td>0.025668</td>\n",
              "      <td>1</td>\n",
              "    </tr>\n",
              "    <tr>\n",
              "      <th>1</th>\n",
              "      <td>507246</td>\n",
              "      <td>6578</td>\n",
              "      <td>2005-08-18</td>\n",
              "      <td>45</td>\n",
              "      <td>5</td>\n",
              "      <td>0</td>\n",
              "      <td>0</td>\n",
              "      <td>7</td>\n",
              "      <td>0</td>\n",
              "      <td>0</td>\n",
              "      <td>0</td>\n",
              "      <td>0</td>\n",
              "      <td>1</td>\n",
              "      <td>75</td>\n",
              "      <td>40</td>\n",
              "      <td>2004-09-08</td>\n",
              "      <td>0</td>\n",
              "      <td>0</td>\n",
              "      <td>30.0</td>\n",
              "      <td>NaN</td>\n",
              "      <td>NaN</td>\n",
              "      <td>NaN</td>\n",
              "      <td>NaN</td>\n",
              "      <td>NaN</td>\n",
              "      <td>2005-08-16</td>\n",
              "      <td>2005-10-14</td>\n",
              "      <td>3</td>\n",
              "      <td>0</td>\n",
              "      <td>2</td>\n",
              "      <td>0</td>\n",
              "      <td>344.0</td>\n",
              "      <td>59</td>\n",
              "      <td>2.0</td>\n",
              "      <td>NaN</td>\n",
              "      <td>18.0</td>\n",
              "      <td>8.0</td>\n",
              "      <td>2005.0</td>\n",
              "      <td>2005</td>\n",
              "      <td>2004</td>\n",
              "      <td>16</td>\n",
              "      <td>12</td>\n",
              "      <td>4</td>\n",
              "      <td>2837</td>\n",
              "      <td>0.025668</td>\n",
              "      <td>0</td>\n",
              "    </tr>\n",
              "    <tr>\n",
              "      <th>2</th>\n",
              "      <td>523729</td>\n",
              "      <td>6534</td>\n",
              "      <td>2006-04-29</td>\n",
              "      <td>0</td>\n",
              "      <td>0</td>\n",
              "      <td>0</td>\n",
              "      <td>0</td>\n",
              "      <td>0</td>\n",
              "      <td>0</td>\n",
              "      <td>0</td>\n",
              "      <td>0</td>\n",
              "      <td>0</td>\n",
              "      <td>None</td>\n",
              "      <td>None</td>\n",
              "      <td>None</td>\n",
              "      <td>2004-06-22</td>\n",
              "      <td>-1</td>\n",
              "      <td>-1</td>\n",
              "      <td>30.0</td>\n",
              "      <td>NaN</td>\n",
              "      <td>NaN</td>\n",
              "      <td>0.402054</td>\n",
              "      <td>NaN</td>\n",
              "      <td>NaN</td>\n",
              "      <td>2005-10-17</td>\n",
              "      <td>2007-11-07</td>\n",
              "      <td>2</td>\n",
              "      <td>1</td>\n",
              "      <td>2</td>\n",
              "      <td>0</td>\n",
              "      <td>676.0</td>\n",
              "      <td>751</td>\n",
              "      <td>194.0</td>\n",
              "      <td>NaN</td>\n",
              "      <td>29.0</td>\n",
              "      <td>4.0</td>\n",
              "      <td>2006.0</td>\n",
              "      <td>2005</td>\n",
              "      <td>2004</td>\n",
              "      <td>5</td>\n",
              "      <td>4</td>\n",
              "      <td>2</td>\n",
              "      <td>3597</td>\n",
              "      <td>0.032544</td>\n",
              "      <td>1</td>\n",
              "    </tr>\n",
              "    <tr>\n",
              "      <th>3</th>\n",
              "      <td>524931</td>\n",
              "      <td>6535</td>\n",
              "      <td>2004-02-07</td>\n",
              "      <td>0</td>\n",
              "      <td>0</td>\n",
              "      <td>0</td>\n",
              "      <td>0</td>\n",
              "      <td>0</td>\n",
              "      <td>0</td>\n",
              "      <td>0</td>\n",
              "      <td>0</td>\n",
              "      <td>0</td>\n",
              "      <td>None</td>\n",
              "      <td>None</td>\n",
              "      <td>None</td>\n",
              "      <td>2004-02-07</td>\n",
              "      <td>1</td>\n",
              "      <td>-1</td>\n",
              "      <td>30.0</td>\n",
              "      <td>NaN</td>\n",
              "      <td>NaN</td>\n",
              "      <td>NaN</td>\n",
              "      <td>NaN</td>\n",
              "      <td>NaN</td>\n",
              "      <td>2004-02-01</td>\n",
              "      <td>2004-02-18</td>\n",
              "      <td>1</td>\n",
              "      <td>2</td>\n",
              "      <td>2</td>\n",
              "      <td>0</td>\n",
              "      <td>0.0</td>\n",
              "      <td>17</td>\n",
              "      <td>6.0</td>\n",
              "      <td>1.0</td>\n",
              "      <td>7.0</td>\n",
              "      <td>2.0</td>\n",
              "      <td>2004.0</td>\n",
              "      <td>2004</td>\n",
              "      <td>2004</td>\n",
              "      <td>4</td>\n",
              "      <td>4</td>\n",
              "      <td>3</td>\n",
              "      <td>1882</td>\n",
              "      <td>0.017028</td>\n",
              "      <td>0</td>\n",
              "    </tr>\n",
              "    <tr>\n",
              "      <th>4</th>\n",
              "      <td>521364</td>\n",
              "      <td>6529</td>\n",
              "      <td>2006-02-28</td>\n",
              "      <td>15</td>\n",
              "      <td>1</td>\n",
              "      <td>0</td>\n",
              "      <td>0</td>\n",
              "      <td>7</td>\n",
              "      <td>0</td>\n",
              "      <td>0</td>\n",
              "      <td>0</td>\n",
              "      <td>1</td>\n",
              "      <td>1</td>\n",
              "      <td>70</td>\n",
              "      <td>40</td>\n",
              "      <td>2003-07-04</td>\n",
              "      <td>1</td>\n",
              "      <td>1</td>\n",
              "      <td>30.0</td>\n",
              "      <td>NaN</td>\n",
              "      <td>NaN</td>\n",
              "      <td>0.845597</td>\n",
              "      <td>NaN</td>\n",
              "      <td>NaN</td>\n",
              "      <td>2006-03-30</td>\n",
              "      <td>2006-04-03</td>\n",
              "      <td>2</td>\n",
              "      <td>1</td>\n",
              "      <td>2</td>\n",
              "      <td>1</td>\n",
              "      <td>970.0</td>\n",
              "      <td>4</td>\n",
              "      <td>30.0</td>\n",
              "      <td>NaN</td>\n",
              "      <td>28.0</td>\n",
              "      <td>2.0</td>\n",
              "      <td>2006.0</td>\n",
              "      <td>2006</td>\n",
              "      <td>2003</td>\n",
              "      <td>17</td>\n",
              "      <td>9</td>\n",
              "      <td>4</td>\n",
              "      <td>3823</td>\n",
              "      <td>0.034589</td>\n",
              "      <td>1</td>\n",
              "    </tr>\n",
              "  </tbody>\n",
              "</table>\n",
              "</div>\n",
              "      <button class=\"colab-df-convert\" onclick=\"convertToInteractive('df-6e9235b0-4d3e-4d6d-9bc4-8e3cc4a17d46')\"\n",
              "              title=\"Convert this dataframe to an interactive table.\"\n",
              "              style=\"display:none;\">\n",
              "        \n",
              "  <svg xmlns=\"http://www.w3.org/2000/svg\" height=\"24px\"viewBox=\"0 0 24 24\"\n",
              "       width=\"24px\">\n",
              "    <path d=\"M0 0h24v24H0V0z\" fill=\"none\"/>\n",
              "    <path d=\"M18.56 5.44l.94 2.06.94-2.06 2.06-.94-2.06-.94-.94-2.06-.94 2.06-2.06.94zm-11 1L8.5 8.5l.94-2.06 2.06-.94-2.06-.94L8.5 2.5l-.94 2.06-2.06.94zm10 10l.94 2.06.94-2.06 2.06-.94-2.06-.94-.94-2.06-.94 2.06-2.06.94z\"/><path d=\"M17.41 7.96l-1.37-1.37c-.4-.4-.92-.59-1.43-.59-.52 0-1.04.2-1.43.59L10.3 9.45l-7.72 7.72c-.78.78-.78 2.05 0 2.83L4 21.41c.39.39.9.59 1.41.59.51 0 1.02-.2 1.41-.59l7.78-7.78 2.81-2.81c.8-.78.8-2.07 0-2.86zM5.41 20L4 18.59l7.72-7.72 1.47 1.35L5.41 20z\"/>\n",
              "  </svg>\n",
              "      </button>\n",
              "      \n",
              "  <style>\n",
              "    .colab-df-container {\n",
              "      display:flex;\n",
              "      flex-wrap:wrap;\n",
              "      gap: 12px;\n",
              "    }\n",
              "\n",
              "    .colab-df-convert {\n",
              "      background-color: #E8F0FE;\n",
              "      border: none;\n",
              "      border-radius: 50%;\n",
              "      cursor: pointer;\n",
              "      display: none;\n",
              "      fill: #1967D2;\n",
              "      height: 32px;\n",
              "      padding: 0 0 0 0;\n",
              "      width: 32px;\n",
              "    }\n",
              "\n",
              "    .colab-df-convert:hover {\n",
              "      background-color: #E2EBFA;\n",
              "      box-shadow: 0px 1px 2px rgba(60, 64, 67, 0.3), 0px 1px 3px 1px rgba(60, 64, 67, 0.15);\n",
              "      fill: #174EA6;\n",
              "    }\n",
              "\n",
              "    [theme=dark] .colab-df-convert {\n",
              "      background-color: #3B4455;\n",
              "      fill: #D2E3FC;\n",
              "    }\n",
              "\n",
              "    [theme=dark] .colab-df-convert:hover {\n",
              "      background-color: #434B5C;\n",
              "      box-shadow: 0px 1px 3px 1px rgba(0, 0, 0, 0.15);\n",
              "      filter: drop-shadow(0px 1px 2px rgba(0, 0, 0, 0.3));\n",
              "      fill: #FFFFFF;\n",
              "    }\n",
              "  </style>\n",
              "\n",
              "      <script>\n",
              "        const buttonEl =\n",
              "          document.querySelector('#df-6e9235b0-4d3e-4d6d-9bc4-8e3cc4a17d46 button.colab-df-convert');\n",
              "        buttonEl.style.display =\n",
              "          google.colab.kernel.accessAllowed ? 'block' : 'none';\n",
              "\n",
              "        async function convertToInteractive(key) {\n",
              "          const element = document.querySelector('#df-6e9235b0-4d3e-4d6d-9bc4-8e3cc4a17d46');\n",
              "          const dataTable =\n",
              "            await google.colab.kernel.invokeFunction('convertToInteractive',\n",
              "                                                     [key], {});\n",
              "          if (!dataTable) return;\n",
              "\n",
              "          const docLinkHtml = 'Like what you see? Visit the ' +\n",
              "            '<a target=\"_blank\" href=https://colab.research.google.com/notebooks/data_table.ipynb>data table notebook</a>'\n",
              "            + ' to learn more about interactive tables.';\n",
              "          element.innerHTML = '';\n",
              "          dataTable['output_type'] = 'display_data';\n",
              "          await google.colab.output.renderOutput(dataTable, element);\n",
              "          const docLink = document.createElement('div');\n",
              "          docLink.innerHTML = docLinkHtml;\n",
              "          element.appendChild(docLink);\n",
              "        }\n",
              "      </script>\n",
              "    </div>\n",
              "  </div>\n",
              "  "
            ]
          },
          "metadata": {},
          "execution_count": 205
        }
      ]
    },
    {
      "cell_type": "code",
      "source": [
        "combined.tv.value_counts()"
      ],
      "metadata": {
        "colab": {
          "base_uri": "https://localhost:8080/"
        },
        "id": "YPEKhafgSqfW",
        "outputId": "560caeb7-5eb5-4597-e8f0-e824e1b6d4fe"
      },
      "execution_count": null,
      "outputs": [
        {
          "output_type": "execute_result",
          "data": {
            "text/plain": [
              "0    89993\n",
              "1    20534\n",
              "Name: tv, dtype: int64"
            ]
          },
          "metadata": {},
          "execution_count": 206
        }
      ]
    },
    {
      "cell_type": "code",
      "source": [
        "# Income, Education Score and Age\n",
        "combined.Income.replace(to_replace=\"None\", value = np.nan, inplace = True)\n",
        "combined.Education_Score.replace(to_replace=\"None\", value = np.nan, inplace = True)\n",
        "combined.Age.replace(to_replace=\"None\", value = np.nan, inplace = True)\n"
      ],
      "metadata": {
        "id": "b9QW3ElwSqh5"
      },
      "execution_count": null,
      "outputs": []
    },
    {
      "cell_type": "code",
      "source": [
        "combined.Age=combined.Age.astype(float)"
      ],
      "metadata": {
        "id": "6gj-LRM1SqkH"
      },
      "execution_count": null,
      "outputs": []
    },
    {
      "cell_type": "code",
      "source": [
        "combined.Education_Score=combined.Education_Score.astype(float)"
      ],
      "metadata": {
        "id": "9PCNER1jSqnZ"
      },
      "execution_count": null,
      "outputs": []
    },
    {
      "cell_type": "code",
      "source": [],
      "metadata": {
        "id": "mnz9MYxXP5lo"
      },
      "execution_count": null,
      "outputs": []
    },
    {
      "cell_type": "code",
      "source": [
        "combined.groupby([\"Health_Camp_ID\"])[\"Patient_ID\"].transform(\"nunique\")"
      ],
      "metadata": {
        "colab": {
          "base_uri": "https://localhost:8080/"
        },
        "id": "RL3UWsUFMLY3",
        "outputId": "f07da111-b118-4962-ea22-b235ba61191d"
      },
      "execution_count": null,
      "outputs": [
        {
          "output_type": "execute_result",
          "data": {
            "text/plain": [
              "0         2837\n",
              "1         2837\n",
              "2         3597\n",
              "3         1882\n",
              "4         3823\n",
              "          ... \n",
              "110522     166\n",
              "110523    2180\n",
              "110524    3041\n",
              "110525    2441\n",
              "110526    3041\n",
              "Name: Patient_ID, Length: 110527, dtype: int64"
            ]
          },
          "metadata": {},
          "execution_count": 210
        }
      ]
    },
    {
      "cell_type": "code",
      "source": [
        "combined.groupby(\"Patient_ID\")[\"Registration_month\"].transform(\"nunique\")"
      ],
      "metadata": {
        "colab": {
          "base_uri": "https://localhost:8080/"
        },
        "id": "fHeo31UwMLbJ",
        "outputId": "13cbc334-ffea-44d6-d285-e6bf895d087e"
      },
      "execution_count": null,
      "outputs": [
        {
          "output_type": "execute_result",
          "data": {
            "text/plain": [
              "0          7\n",
              "1         12\n",
              "2          4\n",
              "3          4\n",
              "4          9\n",
              "          ..\n",
              "110522    11\n",
              "110523     3\n",
              "110524     8\n",
              "110525     3\n",
              "110526     4\n",
              "Name: Registration_month, Length: 110527, dtype: int64"
            ]
          },
          "metadata": {},
          "execution_count": 211
        }
      ]
    },
    {
      "cell_type": "code",
      "source": [
        "combined.Income.fillna(1,inplace=True)"
      ],
      "metadata": {
        "id": "0TguuhrAMLde"
      },
      "execution_count": null,
      "outputs": []
    },
    {
      "cell_type": "code",
      "source": [
        "new = combined.drop([\"Patient_ID\", \"Health_Camp_ID\", \"Registration_Date\",\n",
        "              'Online_Follower', 'LinkedIn_Shared',\n",
        "       'Twitter_Shared', 'Facebook_Shared',\n",
        "              'First_Interaction', 'Health_Score', 'Unnamed: 4', 'Health Score', 'Number_of_stall_visited',\n",
        "       'Last_Stall_Visited_Number', 'Camp_Start_Date', 'Camp_End_Date'], axis =1)\n"
      ],
      "metadata": {
        "id": "pSnWRzxtMLfx"
      },
      "execution_count": null,
      "outputs": []
    },
    {
      "cell_type": "code",
      "source": [
        "new.shape"
      ],
      "metadata": {
        "colab": {
          "base_uri": "https://localhost:8080/"
        },
        "id": "gru9mGRpMLjI",
        "outputId": "6a64e539-fed9-4fc8-f0c7-aab362df3039"
      },
      "execution_count": null,
      "outputs": [
        {
          "output_type": "execute_result",
          "data": {
            "text/plain": [
              "(110527, 30)"
            ]
          },
          "metadata": {},
          "execution_count": 214
        }
      ]
    },
    {
      "cell_type": "code",
      "source": [
        "new.columns"
      ],
      "metadata": {
        "colab": {
          "base_uri": "https://localhost:8080/"
        },
        "id": "BjUdW5XCsDps",
        "outputId": "bc2bdc46-3705-4538-ef54-743596463a4c"
      },
      "execution_count": null,
      "outputs": [
        {
          "output_type": "execute_result",
          "data": {
            "text/plain": [
              "Index(['Var1', 'Var2', 'Var3', 'Var4', 'Var5', 'Income', 'Education_Score',\n",
              "       'Age', 'City_Type', 'Employer_Category', 'Donation', 'Category1',\n",
              "       'Category2', 'Category3', 'social_media', 'days_interaction',\n",
              "       'camp_duration', 'camp_registration', 'patient_int_date',\n",
              "       'Registration_Days', 'Registration_month', 'Registration_years',\n",
              "       'Camp_Start_year', 'First_interaction_Year', 'Patients_PerDay',\n",
              "       'Patients_PerMonth', 'Patients_PerYear', 'Patient_PerHC',\n",
              "       'health_camp_freq', 'tv'],\n",
              "      dtype='object')"
            ]
          },
          "metadata": {},
          "execution_count": 215
        }
      ]
    },
    {
      "cell_type": "code",
      "source": [
        "new.isnull().sum()"
      ],
      "metadata": {
        "colab": {
          "base_uri": "https://localhost:8080/"
        },
        "id": "Z7UsKGUNuP3F",
        "outputId": "c4e6f2b4-1792-4588-89ac-db735af35e79"
      },
      "execution_count": null,
      "outputs": [
        {
          "output_type": "execute_result",
          "data": {
            "text/plain": [
              "Var1                          0\n",
              "Var2                          0\n",
              "Var3                          0\n",
              "Var4                          0\n",
              "Var5                          0\n",
              "Income                        0\n",
              "Education_Score           98167\n",
              "Age                       77925\n",
              "City_Type                     0\n",
              "Employer_Category             0\n",
              "Donation                      0\n",
              "Category1                     0\n",
              "Category2                     0\n",
              "Category3                     0\n",
              "social_media                  0\n",
              "days_interaction            334\n",
              "camp_duration                 0\n",
              "camp_registration           334\n",
              "patient_int_date          82613\n",
              "Registration_Days           334\n",
              "Registration_month          334\n",
              "Registration_years          334\n",
              "Camp_Start_year               0\n",
              "First_interaction_Year        0\n",
              "Patients_PerDay               0\n",
              "Patients_PerMonth             0\n",
              "Patients_PerYear              0\n",
              "Patient_PerHC                 0\n",
              "health_camp_freq              0\n",
              "tv                            0\n",
              "dtype: int64"
            ]
          },
          "metadata": {},
          "execution_count": 216
        }
      ]
    },
    {
      "cell_type": "code",
      "source": [
        "new.fillna(-999,inplace=True)"
      ],
      "metadata": {
        "id": "yqzVAVJUtjN1"
      },
      "execution_count": null,
      "outputs": []
    },
    {
      "cell_type": "code",
      "source": [
        "new.isnull().sum()"
      ],
      "metadata": {
        "colab": {
          "base_uri": "https://localhost:8080/"
        },
        "id": "dSc41WbnuzfO",
        "outputId": "c96bccf3-38ca-425e-d7fe-a41cb9e5628f"
      },
      "execution_count": null,
      "outputs": [
        {
          "output_type": "execute_result",
          "data": {
            "text/plain": [
              "Var1                      0\n",
              "Var2                      0\n",
              "Var3                      0\n",
              "Var4                      0\n",
              "Var5                      0\n",
              "Income                    0\n",
              "Education_Score           0\n",
              "Age                       0\n",
              "City_Type                 0\n",
              "Employer_Category         0\n",
              "Donation                  0\n",
              "Category1                 0\n",
              "Category2                 0\n",
              "Category3                 0\n",
              "social_media              0\n",
              "days_interaction          0\n",
              "camp_duration             0\n",
              "camp_registration         0\n",
              "patient_int_date          0\n",
              "Registration_Days         0\n",
              "Registration_month        0\n",
              "Registration_years        0\n",
              "Camp_Start_year           0\n",
              "First_interaction_Year    0\n",
              "Patients_PerDay           0\n",
              "Patients_PerMonth         0\n",
              "Patients_PerYear          0\n",
              "Patient_PerHC             0\n",
              "health_camp_freq          0\n",
              "tv                        0\n",
              "dtype: int64"
            ]
          },
          "metadata": {},
          "execution_count": 218
        }
      ]
    },
    {
      "cell_type": "code",
      "source": [
        "new.days_interaction"
      ],
      "metadata": {
        "colab": {
          "base_uri": "https://localhost:8080/"
        },
        "id": "cMYXfUuOu3vp",
        "outputId": "0565c03d-c6ef-47ea-e89d-47503b14a841"
      },
      "execution_count": null,
      "outputs": [
        {
          "output_type": "execute_result",
          "data": {
            "text/plain": [
              "0         278.0\n",
              "1         344.0\n",
              "2         676.0\n",
              "3           0.0\n",
              "4         970.0\n",
              "          ...  \n",
              "110522    786.0\n",
              "110523    415.0\n",
              "110524    736.0\n",
              "110525    619.0\n",
              "110526    680.0\n",
              "Name: days_interaction, Length: 110527, dtype: float64"
            ]
          },
          "metadata": {},
          "execution_count": 219
        }
      ]
    },
    {
      "cell_type": "code",
      "source": [
        "# replace null value with -999 to ensure that such category appear differently\n",
        "\n",
        "new.fillna(-999,inplace=True)"
      ],
      "metadata": {
        "id": "TRFCsXxasDsP"
      },
      "execution_count": null,
      "outputs": []
    },
    {
      "cell_type": "code",
      "source": [
        "newtrain=new.loc[0:train.shape[0]-1,]\n",
        "newtest=new.loc[train.shape[0]:,]"
      ],
      "metadata": {
        "id": "LJADnnCasDuq"
      },
      "execution_count": null,
      "outputs": []
    },
    {
      "cell_type": "code",
      "source": [
        "newtest.shape,test.shape,newtrain.shape,train.shape"
      ],
      "metadata": {
        "colab": {
          "base_uri": "https://localhost:8080/"
        },
        "id": "70BzXOGrsDxQ",
        "outputId": "d2bc17dc-e7e0-43f8-cc7b-0ccffc8ec6d4"
      },
      "execution_count": null,
      "outputs": [
        {
          "output_type": "execute_result",
          "data": {
            "text/plain": [
              "((35249, 30), (35249, 8), (75278, 30), (75278, 8))"
            ]
          },
          "metadata": {},
          "execution_count": 224
        }
      ]
    },
    {
      "cell_type": "code",
      "source": [
        "X=newtrain.drop('tv',axis=1)\n",
        "y=newtrain['tv']\n",
        "xtest=newtest.drop('tv',axis=1)"
      ],
      "metadata": {
        "id": "w8KuL0BYsDzm"
      },
      "execution_count": null,
      "outputs": []
    },
    {
      "cell_type": "code",
      "source": [
        "from sklearn.ensemble import RandomForestClassifier\n",
        "rf=RandomForestClassifier()\n",
        "pred_rf=rf.fit(X,y).predict_proba(xtest)"
      ],
      "metadata": {
        "id": "XDwKAWTSsD2A"
      },
      "execution_count": null,
      "outputs": []
    },
    {
      "cell_type": "code",
      "source": [
        "# Gaussian NB\n",
        "# from sklearn.naive_bayes import GaussianNB\n",
        "# gnb = GaussianNB()\n",
        "\n",
        "# pred_gnb = gnb.fit(X, y).predict_proba(newtest)\n",
        "\n",
        "solution = pd.DataFrame({\"Patient_ID\":test.Patient_ID,\n",
        "                        \"Health_Camp_ID\":test.Health_Camp_ID,\n",
        "                        \"Outcome\": pred_rf[:, 1]}) \n",
        "\n",
        "solution.to_csv(\"rfMODELhc.csv\", index = False) # 0.65\n"
      ],
      "metadata": {
        "id": "jZMQM3xOsD5O"
      },
      "execution_count": null,
      "outputs": []
    },
    {
      "cell_type": "code",
      "source": [
        "from sklearn.ensemble import GradientBoostingClassifier\n",
        "gbc=GradientBoostingClassifier()\n",
        "pred_gbc=rf.fit(X,y).predict_proba(xtest)"
      ],
      "metadata": {
        "id": "unT2X776z0Nd"
      },
      "execution_count": null,
      "outputs": []
    },
    {
      "cell_type": "code",
      "source": [
        "solution = pd.DataFrame({\"Patient_ID\":test.Patient_ID,\n",
        "                        \"Health_Camp_ID\":test.Health_Camp_ID,\n",
        "                        \"Outcome\": pred_gbc[:, 1]}) \n",
        "\n",
        "solution.to_csv(\"gbcMODELhc.csv\", index = False)"
      ],
      "metadata": {
        "id": "CbXQjbKxz0P0"
      },
      "execution_count": null,
      "outputs": []
    },
    {
      "cell_type": "code",
      "source": [
        "model1=gbc.fit(X,y)"
      ],
      "metadata": {
        "id": "L54EfUEuz0SP"
      },
      "execution_count": null,
      "outputs": []
    },
    {
      "cell_type": "code",
      "source": [
        "df=DataFrame({'v':model1.feature_importances_,'fea':X.columns}).sort_values('v',ascending=False).set_index('fea')"
      ],
      "metadata": {
        "id": "2KYLMSeXz0Uo"
      },
      "execution_count": null,
      "outputs": []
    },
    {
      "cell_type": "code",
      "source": [
        "fea=df[df['v']>0.001].index"
      ],
      "metadata": {
        "id": "Nm-DsXOk5LI2"
      },
      "execution_count": null,
      "outputs": []
    },
    {
      "cell_type": "code",
      "source": [
        "newx=X[fea]\n",
        "newtest=xtest[fea]"
      ],
      "metadata": {
        "id": "s4x6e52-5gwG"
      },
      "execution_count": null,
      "outputs": []
    },
    {
      "cell_type": "code",
      "source": [],
      "metadata": {
        "id": "6ZKc3Ubu5u1r"
      },
      "execution_count": null,
      "outputs": []
    },
    {
      "cell_type": "code",
      "source": [],
      "metadata": {
        "id": "sUiBUph_5vPb"
      },
      "execution_count": null,
      "outputs": []
    },
    {
      "cell_type": "code",
      "source": [
        "len(model1.feature_names_in_)"
      ],
      "metadata": {
        "colab": {
          "base_uri": "https://localhost:8080/"
        },
        "id": "_ntKMDkMz0W-",
        "outputId": "9efe8823-902a-4371-8297-c85a94792360"
      },
      "execution_count": null,
      "outputs": [
        {
          "output_type": "execute_result",
          "data": {
            "text/plain": [
              "29"
            ]
          },
          "metadata": {},
          "execution_count": 234
        }
      ]
    },
    {
      "cell_type": "code",
      "source": [],
      "metadata": {
        "id": "HJgUuZOBz0Zi"
      },
      "execution_count": null,
      "outputs": []
    },
    {
      "cell_type": "code",
      "source": [
        "# Cross Validation\n",
        "n = 10\n",
        "gbm = GradientBoostingClassifier()\n",
        "pred_model = pd.DataFrame()\n",
        "\n",
        "for i in range(n):\n",
        "    folds = next(kfold.split(newX)) # Splitting the data in even groups...\n",
        "    xtrain = \n",
        "gbm_cv = pred_model.mean(axis=1)\n",
        "\n",
        "solution = pd.DataFrame({\"Patient_ID\":test.Patient_ID,\n",
        "                        \"Health_Camp_ID\":test.Health_Camp_ID,\n",
        "                        \"Outcome\": gbm_cv}) \n",
        "\n",
        "solution.to_csv(\"GBM5CVhc.csv\", index = False) # 0.745\n"
      ],
      "metadata": {
        "id": "iFLXwUJiz0b8"
      },
      "execution_count": null,
      "outputs": []
    },
    {
      "cell_type": "code",
      "source": [],
      "metadata": {
        "id": "4kTHGYs9z0eU"
      },
      "execution_count": null,
      "outputs": []
    },
    {
      "cell_type": "code",
      "source": [],
      "metadata": {
        "id": "bnJAtKv7z0hV"
      },
      "execution_count": null,
      "outputs": []
    }
  ]
}